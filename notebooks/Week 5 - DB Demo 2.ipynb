{
 "cells": [
  {
   "cell_type": "markdown",
   "id": "49b394db-ac38-4568-9a72-2f74243b7fce",
   "metadata": {},
   "source": [
    "# DB Demo 2\n",
    "Like DB Demo, but refactored and (hopefully) shorter"
   ]
  },
  {
   "cell_type": "code",
   "execution_count": 1,
   "id": "72580a34-51a1-42b4-beb7-4643c573f3d4",
   "metadata": {},
   "outputs": [],
   "source": [
    "from sql_agent2 import DBAgent\n",
    "from IPython.display import Markdown, display"
   ]
  },
  {
   "cell_type": "code",
   "execution_count": 2,
   "id": "ee83f6f1-1667-461a-afeb-6cfafd858c7f",
   "metadata": {},
   "outputs": [
    {
     "name": "stdout",
     "output_type": "stream",
     "text": [
      "Database connection established!\n",
      "LangChain SQLDatabase initialized!\n"
     ]
    }
   ],
   "source": [
    "sql_agent = DBAgent()"
   ]
  },
  {
   "cell_type": "code",
   "execution_count": 3,
   "id": "5979cb28-b6fd-4a96-afee-46306885e80d",
   "metadata": {},
   "outputs": [],
   "source": [
    "test_question1 = \"What were the top-selling products last month?\"\n",
    "test_question2 = \"Plot a line chart of the monthly sales data.\"\n",
    "test_question3 = \"What were the top-selling products of all time?\"\n",
    "test_question4 = 'What is the minimum sale amount?'\n",
    "questions = [test_question1, test_question2, test_question3, test_question4]"
   ]
  },
  {
   "cell_type": "code",
   "execution_count": 4,
   "id": "88422524-fc87-44bf-ada9-e7fa31f6a851",
   "metadata": {},
   "outputs": [
    {
     "name": "stdout",
     "output_type": "stream",
     "text": [
      "Question: What were the top-selling products last month?\n",
      "---\n",
      "SELECT product_name, SUM(quantity) AS total_quantity FROM sales_data WHERE MONTH(order_date) = MONTH(CURRENT_DATE) - 1 AND YEAR(order_date) = YEAR(CURRENT_DATE) GROUP BY product_name ORDER BY total_quantity DESC LIMIT 10\n",
      "---\n"
     ]
    },
    {
     "data": {
      "text/markdown": [
       "|    | product_name                |   total_quantity |\n",
       "|---:|:----------------------------|-----------------:|\n",
       "|  0 | Noise Cancelling Headphones |               18 |\n",
       "|  1 | Monitor 27\"                 |               17 |\n",
       "|  2 | Laptop 15\"                  |               15 |\n",
       "|  3 | Wireless Mouse              |               11 |\n",
       "|  4 | USB-C Hub                   |               11 |"
      ],
      "text/plain": [
       "<IPython.core.display.Markdown object>"
      ]
     },
     "metadata": {},
     "output_type": "display_data"
    },
    {
     "name": "stdout",
     "output_type": "stream",
     "text": [
      "\n",
      "Question: Plot a line chart of the monthly sales data.\n",
      "---\n",
      "SELECT DATE_FORMAT(order_date, '%Y-%m') AS month, SUM(total_price) AS total_sales FROM sales_data GROUP BY month ORDER BY month ASC;\n",
      "---\n"
     ]
    },
    {
     "data": {
      "text/markdown": [
       "|    | month   |   total_sales |\n",
       "|---:|:--------|--------------:|\n",
       "|  0 | 2025-01 |         22920 |\n",
       "|  1 | 2025-02 |         22405 |\n",
       "|  2 | 2025-03 |         24145 |"
      ],
      "text/plain": [
       "<IPython.core.display.Markdown object>"
      ]
     },
     "metadata": {},
     "output_type": "display_data"
    },
    {
     "name": "stdout",
     "output_type": "stream",
     "text": [
      "\n",
      "Question: What were the top-selling products of all time?\n",
      "---\n",
      "SELECT product_id, product_name, SUM(quantity) AS total_sold FROM sales_data GROUP BY product_id, product_name ORDER BY total_sold DESC LIMIT 10\n",
      "---\n"
     ]
    },
    {
     "data": {
      "text/markdown": [
       "|    | product_id   | product_name                |   total_sold |\n",
       "|---:|:-------------|:----------------------------|-------------:|\n",
       "|  0 | P005         | Monitor 27\"                 |           52 |\n",
       "|  1 | P006         | External SSD 1TB            |           44 |\n",
       "|  2 | P007         | Noise Cancelling Headphones |           43 |\n",
       "|  3 | P003         | USB-C Hub                   |           41 |\n",
       "|  4 | P002         | Laptop 15\"                  |           38 |"
      ],
      "text/plain": [
       "<IPython.core.display.Markdown object>"
      ]
     },
     "metadata": {},
     "output_type": "display_data"
    },
    {
     "name": "stdout",
     "output_type": "stream",
     "text": [
      "\n",
      "Question: What is the minimum sale amount?\n",
      "---\n",
      "SELECT MIN(total_price) AS minimum_sale_amount FROM sales_data\n",
      "---\n"
     ]
    },
    {
     "data": {
      "text/markdown": [
       "|    |   minimum_sale_amount |\n",
       "|---:|----------------------:|\n",
       "|  0 |                    25 |"
      ],
      "text/plain": [
       "<IPython.core.display.Markdown object>"
      ]
     },
     "metadata": {},
     "output_type": "display_data"
    },
    {
     "name": "stdout",
     "output_type": "stream",
     "text": [
      "\n"
     ]
    }
   ],
   "source": [
    "for question in questions:\n",
    "    print(f'Question:', question)\n",
    "    sql = sql_agent.generate_sql(question)\n",
    "    print(f'---\\n{sql}\\n---')\n",
    "    df, markdown = sql_agent.exec_and_render(sql)\n",
    "    display(Markdown(markdown))\n",
    "    print()"
   ]
  },
  {
   "cell_type": "code",
   "execution_count": 5,
   "id": "a7d5c818-a6d8-466f-a676-f53bb18a9c2a",
   "metadata": {},
   "outputs": [
    {
     "data": {
      "text/html": [
       "<div>\n",
       "<style scoped>\n",
       "    .dataframe tbody tr th:only-of-type {\n",
       "        vertical-align: middle;\n",
       "    }\n",
       "\n",
       "    .dataframe tbody tr th {\n",
       "        vertical-align: top;\n",
       "    }\n",
       "\n",
       "    .dataframe thead th {\n",
       "        text-align: right;\n",
       "    }\n",
       "</style>\n",
       "<table border=\"1\" class=\"dataframe\">\n",
       "  <thead>\n",
       "    <tr style=\"text-align: right;\">\n",
       "      <th></th>\n",
       "      <th>minimum_sale_amount</th>\n",
       "    </tr>\n",
       "  </thead>\n",
       "  <tbody>\n",
       "    <tr>\n",
       "      <th>0</th>\n",
       "      <td>25.0</td>\n",
       "    </tr>\n",
       "  </tbody>\n",
       "</table>\n",
       "</div>"
      ],
      "text/plain": [
       "   minimum_sale_amount\n",
       "0                 25.0"
      ]
     },
     "execution_count": 5,
     "metadata": {},
     "output_type": "execute_result"
    }
   ],
   "source": [
    "df"
   ]
  },
  {
   "cell_type": "code",
   "execution_count": null,
   "id": "c85f646c-b8cc-404e-94ac-3467a350891d",
   "metadata": {},
   "outputs": [],
   "source": []
  }
 ],
 "metadata": {
  "kernelspec": {
   "display_name": "Python 3 (ipykernel)",
   "language": "python",
   "name": "python3"
  },
  "language_info": {
   "codemirror_mode": {
    "name": "ipython",
    "version": 3
   },
   "file_extension": ".py",
   "mimetype": "text/x-python",
   "name": "python",
   "nbconvert_exporter": "python",
   "pygments_lexer": "ipython3",
   "version": "3.13.0"
  }
 },
 "nbformat": 4,
 "nbformat_minor": 5
}
