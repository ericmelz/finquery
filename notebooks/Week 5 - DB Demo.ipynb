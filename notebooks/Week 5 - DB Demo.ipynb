{
 "cells": [
  {
   "cell_type": "markdown",
   "id": "49b394db-ac38-4568-9a72-2f74243b7fce",
   "metadata": {},
   "source": [
    "# DB Demo\n",
    "Attempt to use alterntive methods to get SQL query.\n",
    "\n",
    "See <https://python.langchain.com/docs/tutorials/sql_qa/> for notes"
   ]
  },
  {
   "cell_type": "code",
   "execution_count": 1,
   "id": "72580a34-51a1-42b4-beb7-4643c573f3d4",
   "metadata": {},
   "outputs": [],
   "source": [
    "from langchain import hub\n",
    "from langchain.chat_models import init_chat_model\n",
    "from langchain_community.utilities import SQLDatabase\n",
    "from sqlalchemy import create_engine\n",
    "from sqlalchemy.orm import sessionmaker\n",
    "from dotenv import load_dotenv\n",
    "from langsmith import Client\n",
    "from typing_extensions import Annotated, TypedDict\n",
    "\n",
    "import os"
   ]
  },
  {
   "cell_type": "code",
   "execution_count": 2,
   "id": "432c5b48-f4ef-4ef6-9d07-2daa99e94ee6",
   "metadata": {},
   "outputs": [
    {
     "data": {
      "text/plain": [
       "True"
      ]
     },
     "execution_count": 2,
     "metadata": {},
     "output_type": "execute_result"
    }
   ],
   "source": [
    "load_dotenv()"
   ]
  },
  {
   "cell_type": "code",
   "execution_count": 3,
   "id": "9cc12f9d-9130-4c11-aae5-d5a0dfdfe08d",
   "metadata": {},
   "outputs": [],
   "source": [
    "DB_HOST = os.getenv('DB_HOST')\n",
    "DB_PORT = os.getenv('DB_PORT')\n",
    "DB_NAME = os.getenv('DB_NAME')\n",
    "DB_USER = os.getenv('DB_USER')\n",
    "DB_PASS = os.getenv('DB_PASS')\n",
    "\n",
    "OPENAI_API_KEY   = os.getenv('OPENAI_API_KEY')\n",
    "OPENAI_LLM_MODEL = os.getenv('OPENAI_LLM_MODEL')\n",
    "\n",
    "client = Client(api_key=os.getenv(\"LANGSMITH_API_KEY\"))"
   ]
  },
  {
   "cell_type": "code",
   "execution_count": 4,
   "id": "bbcdaecd-387b-4cae-84a9-c8b399f10349",
   "metadata": {},
   "outputs": [],
   "source": [
    "def initialize_db_connection():\n",
    "    \"\"\"Initialize SQLAlchemy engine and session for MySQL database.\"\"\"\n",
    "    try: \n",
    "        engine = create_engine(\n",
    "            f\"mysql+mysqlconnector://{DB_USER}:{DB_PASS}@{DB_HOST}:{DB_PORT}/{DB_NAME}\",\n",
    "            # echo=True, # Verbose logging for debugging\n",
    "            echo=False, # Verbose logging for debugging\n",
    "            pool_pre_ping=True # Ensure active connections\n",
    "        )\n",
    "        Session = sessionmaker(bind=engine)\n",
    "        session = Session()\n",
    "        print(\"Database connection established!\")\n",
    "        return engine, session\n",
    "    except Exception as e:\n",
    "        print(f\"Failed to connect to database: {e}\")\n",
    "        return None, None\n",
    "\n",
    "def get_sql_database(engine):\n",
    "    \"\"\"Wrap SQLAlchemy engine in LangChain's SQLDatabase.\"\"\"\n",
    "    try:\n",
    "        db = SQLDatabase(engine)\n",
    "        print(\"LangChain SQLDatabase initialized!\")\n",
    "        return db\n",
    "    except Exception as e:\n",
    "        print(f\"Failed to initialize SQLDatabase: {e}\")\n",
    "        return None\n",
    "\n",
    "    "
   ]
  },
  {
   "cell_type": "code",
   "execution_count": 5,
   "id": "5c557059-a5a2-4522-9296-3e7b66fc195b",
   "metadata": {},
   "outputs": [
    {
     "name": "stdout",
     "output_type": "stream",
     "text": [
      "Database connection established!\n",
      "LangChain SQLDatabase initialized!\n"
     ]
    }
   ],
   "source": [
    "db = get_sql_database(initialize_db_connection()[0])"
   ]
  },
  {
   "cell_type": "code",
   "execution_count": 6,
   "id": "e9a657c7-3c6e-41d9-97b8-593468b7a75f",
   "metadata": {},
   "outputs": [
    {
     "data": {
      "text/plain": [
       "'mysql'"
      ]
     },
     "execution_count": 6,
     "metadata": {},
     "output_type": "execute_result"
    }
   ],
   "source": [
    "db.dialect"
   ]
  },
  {
   "cell_type": "code",
   "execution_count": 7,
   "id": "2b926564-d2f7-48a9-b696-932a2c5142e1",
   "metadata": {},
   "outputs": [
    {
     "data": {
      "text/plain": [
       "['accounting_transactions', 'financial_transactions', 'sales_data']"
      ]
     },
     "execution_count": 7,
     "metadata": {},
     "output_type": "execute_result"
    }
   ],
   "source": [
    "db.get_usable_table_names()"
   ]
  },
  {
   "cell_type": "code",
   "execution_count": 8,
   "id": "318da5d0-ed73-47f3-9765-b12e5b5a42f6",
   "metadata": {},
   "outputs": [
    {
     "name": "stdout",
     "output_type": "stream",
     "text": [
      "[('1001', 'P007', 'Noise Cancelling Headphones', 'Audio', 1, Decimal('200.00'), Decimal('200.00'), datetime.date(2025, 2, 28)), ('1002', 'P002', 'Laptop 15\"', 'Computers', 4, Decimal('850.00'), Decimal('3400.00'), datetime.date(2025, 2, 11))]\n"
     ]
    }
   ],
   "source": [
    "print(db.run(\"SELECT * FROM sales_data LIMIT 2\"))"
   ]
  },
  {
   "cell_type": "code",
   "execution_count": 9,
   "id": "5bc666c1-6afa-48a2-8eac-fd7380c637d5",
   "metadata": {},
   "outputs": [],
   "source": [
    "llm = init_chat_model(\"gpt-4o-mini\", model_provider=\"openai\")"
   ]
  },
  {
   "cell_type": "code",
   "execution_count": 10,
   "id": "2c2fc3a3-9a8d-481a-8900-2b94ace50493",
   "metadata": {},
   "outputs": [],
   "source": [
    "query_prompt_template = hub.pull(\"langchain-ai/sql-query-system-prompt\")"
   ]
  },
  {
   "cell_type": "code",
   "execution_count": 11,
   "id": "f2c9a178-e2c6-47df-9ae6-565c4b63f935",
   "metadata": {},
   "outputs": [],
   "source": [
    "class QueryOutput(TypedDict):\n",
    "    \"\"\"Generated SQL query.\"\"\"\n",
    "    query: Annotated[str, ..., \"Syntatically valid SQL query.\"]\n",
    "    \n",
    "def write_query(question: str):\n",
    "    \"\"\"Generate SQL query to fetch information.\"\"\"\n",
    "    prompt = query_prompt_template.invoke(\n",
    "        {\n",
    "            \"dialect\": db.dialect,\n",
    "            \"top_k\": 10,\n",
    "            \"table_info\": db.get_table_info(),\n",
    "            \"input\": question,\n",
    "        }\n",
    "    )\n",
    "    structured_llm = llm.with_structured_output(QueryOutput)\n",
    "    result = structured_llm.invoke(prompt)\n",
    "    return result[\"query\"]\n",
    "    "
   ]
  },
  {
   "cell_type": "code",
   "execution_count": 12,
   "id": "5979cb28-b6fd-4a96-afee-46306885e80d",
   "metadata": {},
   "outputs": [],
   "source": [
    "test_question1 = \"What were the top-selling products last month?\"\n",
    "test_question2 = \"Plot a line chart of the monthly sales data.\"\n",
    "test_question3 = \"What were the top-selling products of all time?\"\n",
    "test_question4 = 'What is the minimum sale amount?'\n",
    "questions = [test_question1, test_question2, test_question3, test_question4]"
   ]
  },
  {
   "cell_type": "code",
   "execution_count": 16,
   "id": "88422524-fc87-44bf-ada9-e7fa31f6a851",
   "metadata": {},
   "outputs": [
    {
     "name": "stdout",
     "output_type": "stream",
     "text": [
      "Question: What were the top-selling products last month?\n",
      "---\n",
      "SELECT product_name, SUM(quantity) AS total_quantity_sold \n",
      "FROM sales_data \n",
      "WHERE order_date >= '2023-09-01' AND order_date < '2023-10-01' \n",
      "GROUP BY product_name \n",
      "ORDER BY total_quantity_sold DESC \n",
      "LIMIT 10;\n",
      "---\n",
      "\n",
      "Question: Plot a line chart of the monthly sales data.\n",
      "---\n",
      "SELECT MONTH(order_date) AS month, SUM(total_price) AS total_sales\n",
      "FROM sales_data\n",
      "GROUP BY MONTH(order_date)\n",
      "ORDER BY month LIMIT 10;\n",
      "---\n",
      "\n",
      "Question: What were the top-selling products of all time?\n",
      "---\n",
      "SELECT product_name, SUM(quantity) AS total_quantity_sold FROM sales_data GROUP BY product_name ORDER BY total_quantity_sold DESC LIMIT 10;\n",
      "---\n",
      "\n",
      "Question: What is the minimum sale amount?\n",
      "---\n",
      "SELECT MIN(total_price) AS Minimum_Sale_Amount FROM sales_data;\n",
      "---\n",
      "\n"
     ]
    }
   ],
   "source": [
    "for question in questions:\n",
    "    print(f'Question:', question)\n",
    "    sql = write_query(question)\n",
    "    print(f'---\\n{sql}\\n---\\n')"
   ]
  },
  {
   "cell_type": "code",
   "execution_count": null,
   "id": "a7d5c818-a6d8-466f-a676-f53bb18a9c2a",
   "metadata": {},
   "outputs": [],
   "source": []
  }
 ],
 "metadata": {
  "kernelspec": {
   "display_name": "Python 3 (ipykernel)",
   "language": "python",
   "name": "python3"
  },
  "language_info": {
   "codemirror_mode": {
    "name": "ipython",
    "version": 3
   },
   "file_extension": ".py",
   "mimetype": "text/x-python",
   "name": "python",
   "nbconvert_exporter": "python",
   "pygments_lexer": "ipython3",
   "version": "3.13.0"
  }
 },
 "nbformat": 4,
 "nbformat_minor": 5
}
