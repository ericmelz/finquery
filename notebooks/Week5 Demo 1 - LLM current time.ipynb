{
 "cells": [
  {
   "cell_type": "markdown",
   "id": "d53fe093-1439-49bb-9e6e-72ebab4ec663",
   "metadata": {},
   "source": [
    "# Demo 1 - LLM Current Time\n",
    "The issue here is that asking for last month's data doesn't always work since the LLM thinks it's 2023."
   ]
  },
  {
   "cell_type": "code",
   "execution_count": 3,
   "id": "28eb05a4-0d5a-4203-bf35-16efbae03d07",
   "metadata": {},
   "outputs": [
    {
     "name": "stdout",
     "output_type": "stream",
     "text": [
      "Database connection established!\n",
      "2025-04-13 08:20:48,315 INFO sqlalchemy.engine.Engine SELECT DATABASE()\n",
      "2025-04-13 08:20:48,315 INFO sqlalchemy.engine.Engine [raw sql] {}\n",
      "2025-04-13 08:20:48,319 INFO sqlalchemy.engine.Engine SELECT @@sql_mode\n",
      "2025-04-13 08:20:48,319 INFO sqlalchemy.engine.Engine [raw sql] {}\n",
      "2025-04-13 08:20:48,321 INFO sqlalchemy.engine.Engine SELECT @@lower_case_table_names\n",
      "2025-04-13 08:20:48,321 INFO sqlalchemy.engine.Engine [raw sql] {}\n",
      "2025-04-13 08:20:48,323 INFO sqlalchemy.engine.Engine BEGIN (implicit)\n",
      "2025-04-13 08:20:48,324 INFO sqlalchemy.engine.Engine SHOW FULL TABLES FROM `finquery`\n",
      "2025-04-13 08:20:48,325 INFO sqlalchemy.engine.Engine [raw sql] {}\n",
      "2025-04-13 08:20:48,344 INFO sqlalchemy.engine.Engine ROLLBACK\n",
      "2025-04-13 08:20:48,348 INFO sqlalchemy.engine.Engine BEGIN (implicit)\n",
      "2025-04-13 08:20:48,349 INFO sqlalchemy.engine.Engine SHOW FULL TABLES FROM `finquery`\n",
      "2025-04-13 08:20:48,351 INFO sqlalchemy.engine.Engine [raw sql] {}\n",
      "2025-04-13 08:20:48,364 INFO sqlalchemy.engine.Engine SHOW CREATE TABLE `accounting_transactions`\n",
      "2025-04-13 08:20:48,365 INFO sqlalchemy.engine.Engine [raw sql] {}\n",
      "2025-04-13 08:20:48,371 INFO sqlalchemy.engine.Engine SHOW CREATE TABLE `financial_transactions`\n",
      "2025-04-13 08:20:48,372 INFO sqlalchemy.engine.Engine [raw sql] {}\n",
      "2025-04-13 08:20:48,377 INFO sqlalchemy.engine.Engine SHOW CREATE TABLE `sales_data`\n",
      "2025-04-13 08:20:48,377 INFO sqlalchemy.engine.Engine [raw sql] {}\n",
      "2025-04-13 08:20:48,382 INFO sqlalchemy.engine.Engine ROLLBACK\n",
      "LangChain SQLDatabase initialized!\n",
      "OpenAI LLM initialized!\n",
      "SQL Agent created successfully!\n"
     ]
    }
   ],
   "source": [
    "from sql_agent import initialize_db_connection, get_sql_database, initialize_llm, create_agent as create_sql_agent, run_query\n",
    "\n",
    "engine, session = initialize_db_connection()\n",
    "db = get_sql_database(engine)\n",
    "llm = initialize_llm()\n",
    "agent = create_sql_agent(db, llm)"
   ]
  },
  {
   "cell_type": "code",
   "execution_count": 4,
   "id": "548bb045-60f6-4d1c-9a5d-536025eb15b2",
   "metadata": {},
   "outputs": [],
   "source": [
    "test_query1 = \"What were the top-selling products last month?\""
   ]
  },
  {
   "cell_type": "markdown",
   "id": "bb6f1678-1313-4806-80c7-6df6c349a1d7",
   "metadata": {},
   "source": [
    "## LLM date confusion\n",
    "Note that a reasoning step says `First, I need to determine the date range for last month. Assuming the current date is in October 2023, last month would be September 2023.`"
   ]
  },
  {
   "cell_type": "code",
   "execution_count": 5,
   "id": "c6f0d6a4-ce7c-4d95-a62e-8858a4edc687",
   "metadata": {},
   "outputs": [
    {
     "name": "stdout",
     "output_type": "stream",
     "text": [
      "sql_agent.run_query: query='What were the top-selling products last month?'\n",
      "\n",
      "\n",
      "\u001b[1m> Entering new SQL Agent Executor chain...\u001b[0m\n"
     ]
    },
    {
     "name": "stderr",
     "output_type": "stream",
     "text": [
      "/Users/ericmelz/Data/code/finquery/notebooks/sql_agent.py:83: LangChainDeprecationWarning: The method `Chain.run` was deprecated in langchain 0.1.0 and will be removed in 1.0. Use :meth:`~invoke` instead.\n",
      "  response = agent.run(query)\n"
     ]
    },
    {
     "name": "stdout",
     "output_type": "stream",
     "text": [
      "\u001b[32;1m\u001b[1;3mAction: sql_db_list_tables  \n",
      "Action Input: \"\"  \u001b[0m\u001b[38;5;200m\u001b[1;3maccounting_transactions, financial_transactions, sales_data\u001b[0m\u001b[32;1m\u001b[1;3mI need to check the schema of the `sales_data` table, as it is likely to contain information about products and their sales.  \n",
      "Action: sql_db_schema  \n",
      "Action Input: \"sales_data\"  \u001b[0m2025-04-13 08:21:01,506 INFO sqlalchemy.engine.Engine BEGIN (implicit)\n",
      "2025-04-13 08:21:01,507 INFO sqlalchemy.engine.Engine SELECT sales_data.order_id, sales_data.product_id, sales_data.product_name, sales_data.category, sales_data.quantity, sales_data.unit_price, sales_data.total_price, sales_data.order_date \n",
      "FROM sales_data \n",
      " LIMIT %(param_1)s\n",
      "2025-04-13 08:21:01,507 INFO sqlalchemy.engine.Engine [generated in 0.00128s] {'param_1': 3}\n",
      "2025-04-13 08:21:01,511 INFO sqlalchemy.engine.Engine ROLLBACK\n",
      "\u001b[33;1m\u001b[1;3m\n",
      "CREATE TABLE sales_data (\n",
      "\torder_id VARCHAR(10), \n",
      "\tproduct_id VARCHAR(10), \n",
      "\tproduct_name VARCHAR(100), \n",
      "\tcategory VARCHAR(50), \n",
      "\tquantity INTEGER, \n",
      "\tunit_price DECIMAL(10, 2), \n",
      "\ttotal_price DECIMAL(10, 2), \n",
      "\torder_date DATE\n",
      ")COLLATE utf8mb4_0900_ai_ci ENGINE=InnoDB DEFAULT CHARSET=utf8mb4\n",
      "\n",
      "/*\n",
      "3 rows from sales_data table:\n",
      "order_id\tproduct_id\tproduct_name\tcategory\tquantity\tunit_price\ttotal_price\torder_date\n",
      "1001\tP007\tNoise Cancelling Headphones\tAudio\t1\t200.00\t200.00\t2025-02-28\n",
      "1002\tP002\tLaptop 15\"\tComputers\t4\t850.00\t3400.00\t2025-02-11\n",
      "1003\tP004\tGaming Keyboard\tAccessories\t2\t120.00\t240.00\t2025-02-08\n",
      "*/\u001b[0m\u001b[32;1m\u001b[1;3mTo find the top-selling products from last month, I need to query the `sales_data` table for the products sold in the previous month and aggregate the sales by product. I will sum the `quantity` and order the results by the total quantity sold.\n",
      "\n",
      "First, I need to determine the date range for last month. Assuming the current date is in October 2023, last month would be September 2023.\n",
      "\n",
      "I will construct the query to sum the quantity sold for each product in September 2023 and order the results by the total quantity sold in descending order.\n",
      "\n",
      "Action: sql_db_query_checker  \n",
      "Action Input: \"SELECT product_id, product_name, SUM(quantity) AS total_quantity FROM sales_data WHERE order_date >= '2023-09-01' AND order_date < '2023-10-01' GROUP BY product_id, product_name ORDER BY total_quantity DESC LIMIT 10;\"  \u001b[0m\u001b[36;1m\u001b[1;3m```sql\n",
      "SELECT product_id, product_name, SUM(quantity) AS total_quantity \n",
      "FROM sales_data \n",
      "WHERE order_date >= '2023-09-01' AND order_date < '2023-10-01' \n",
      "GROUP BY product_id, product_name \n",
      "ORDER BY total_quantity DESC \n",
      "LIMIT 10;\n",
      "```\u001b[0m\u001b[32;1m\u001b[1;3mThe query is syntactically correct. Now I will execute it to retrieve the top-selling products from last month.\n",
      "\n",
      "Action: sql_db_query  \n",
      "Action Input: \"SELECT product_id, product_name, SUM(quantity) AS total_quantity FROM sales_data WHERE order_date >= '2023-09-01' AND order_date < '2023-10-01' GROUP BY product_id, product_name ORDER BY total_quantity DESC LIMIT 10;\"  \u001b[0m2025-04-13 08:21:10,552 INFO sqlalchemy.engine.Engine BEGIN (implicit)\n",
      "2025-04-13 08:21:10,553 INFO sqlalchemy.engine.Engine SELECT product_id, product_name, SUM(quantity) AS total_quantity FROM sales_data WHERE order_date >= '2023-09-01' AND order_date < '2023-10-01' GROUP BY product_id, product_name ORDER BY total_quantity DESC LIMIT 10;\n",
      "2025-04-13 08:21:10,554 INFO sqlalchemy.engine.Engine [generated in 0.00094s] {}\n",
      "2025-04-13 08:21:10,561 INFO sqlalchemy.engine.Engine COMMIT\n",
      "\u001b[36;1m\u001b[1;3m\u001b[0mError processing query 'What were the top-selling products last month?': An output parsing error occurred. In order to pass this error back to the agent and have it try again, pass `handle_parsing_errors=True` to the AgentExecutor. This is the error: Could not parse LLM output: `I don't know.`\n",
      "For troubleshooting, visit: https://python.langchain.com/docs/troubleshooting/errors/OUTPUT_PARSING_FAILURE \n"
     ]
    }
   ],
   "source": [
    "response = run_query(agent, test_query1)\n",
    "print(response)"
   ]
  },
  {
   "cell_type": "code",
   "execution_count": null,
   "id": "57ad259b-589b-43a0-b38d-40833ff92d71",
   "metadata": {},
   "outputs": [],
   "source": []
  }
 ],
 "metadata": {
  "kernelspec": {
   "display_name": "Python 3 (ipykernel)",
   "language": "python",
   "name": "python3"
  },
  "language_info": {
   "codemirror_mode": {
    "name": "ipython",
    "version": 3
   },
   "file_extension": ".py",
   "mimetype": "text/x-python",
   "name": "python",
   "nbconvert_exporter": "python",
   "pygments_lexer": "ipython3",
   "version": "3.13.0"
  }
 },
 "nbformat": 4,
 "nbformat_minor": 5
}
