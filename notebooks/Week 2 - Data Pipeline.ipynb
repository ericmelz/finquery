{
 "cells": [
  {
   "cell_type": "code",
   "execution_count": 1,
   "id": "91f8c785-b195-4515-942c-531d383a567f",
   "metadata": {},
   "outputs": [],
   "source": [
    "from dotenv import load_dotenv\n",
    "import os"
   ]
  },
  {
   "cell_type": "code",
   "execution_count": 5,
   "id": "e6110b20-030f-4eac-94be-f8f9b28bfa1c",
   "metadata": {},
   "outputs": [
    {
     "data": {
      "text/plain": [
       "True"
      ]
     },
     "execution_count": 5,
     "metadata": {},
     "output_type": "execute_result"
    }
   ],
   "source": [
    "load_dotenv()"
   ]
  },
  {
   "cell_type": "code",
   "execution_count": 11,
   "id": "8fe92abc-1602-478e-9912-97e1cab6b795",
   "metadata": {},
   "outputs": [],
   "source": [
    "import mysql.connector\n",
    "import sqlalchemy\n",
    "import pandas as pd"
   ]
  },
  {
   "cell_type": "code",
   "execution_count": 13,
   "id": "85a6e0f8-3b73-4fb5-947d-2bb60c763962",
   "metadata": {},
   "outputs": [
    {
     "name": "stdout",
     "output_type": "stream",
     "text": [
      "mysql-connector-python version: 9.2.0\n",
      "SQLAlchemy version: 2.0.39\n",
      "pandas version: 2.2.3\n",
      "All libraries installed and imported successfully!\n"
     ]
    }
   ],
   "source": [
    "print(\"mysql-connector-python version:\", mysql.connector.__version__)\n",
    "print(\"SQLAlchemy version:\", sqlalchemy.__version__)\n",
    "print(\"pandas version:\", pd.__version__)\n",
    "print(\"All libraries installed and imported successfully!\")"
   ]
  },
  {
   "cell_type": "code",
   "execution_count": 14,
   "id": "c709d3bc-143a-444e-abdb-0b5625e27d8b",
   "metadata": {},
   "outputs": [],
   "source": [
    "from sqlalchemy import create_engine, text\n",
    "from sqlalchemy.orm import sessionmaker\n",
    "import traceback"
   ]
  },
  {
   "cell_type": "code",
   "execution_count": 18,
   "id": "f88e7ffe-1317-401e-ab80-eb889a6a02ee",
   "metadata": {},
   "outputs": [],
   "source": [
    "DB_USER=os.getenv(\"DB_USER\")\n",
    "DB_PASS=os.getenv(\"DB_PASSWORD\")\n",
    "DB_HOST=os.getenv(\"DB_HOST\")\n",
    "DB_PORT=os.getenv(\"DB_PORT\")\n",
    "DB_NAME=os.getenv(\"DB_NAME\")"
   ]
  },
  {
   "cell_type": "code",
   "execution_count": 23,
   "id": "b278cbbd-de8d-467c-b560-1641bead69f2",
   "metadata": {},
   "outputs": [
    {
     "name": "stdout",
     "output_type": "stream",
     "text": [
      "Engine created successfully!\n"
     ]
    }
   ],
   "source": [
    "# Create SQLAlchemy engine\n",
    "try:\n",
    "    engine = create_engine(\n",
    "        f\"mysql+mysqlconnector://{DB_USER}:{DB_PASS}@{DB_HOST}:{DB_PORT}/{DB_NAME}\",\n",
    "        echo=True, # verbose logging for debugging\n",
    "        pool_pre_ping=True # Test connections before use\n",
    "    )\n",
    "    print(\"Engine created successfully!\")\n",
    "except Exception as e:\n",
    "    print(\"Failed to create engine:\")\n",
    "    print(traceback.format_exc())"
   ]
  },
  {
   "cell_type": "code",
   "execution_count": 24,
   "id": "9e63a995-12dd-4151-9e32-ca4eb1c75eb2",
   "metadata": {},
   "outputs": [
    {
     "name": "stdout",
     "output_type": "stream",
     "text": [
      "Session factory and instance created!\n"
     ]
    }
   ],
   "source": [
    "# Configure session factory\n",
    "try:\n",
    "    Session = sessionmaker(bind=engine)\n",
    "    session = Session()\n",
    "    print(\"Session factory and instance created!\")\n",
    "except Exception as e:\n",
    "    print(\"Failed to create session:\")\n",
    "    print(traceback.format_exc())"
   ]
  },
  {
   "cell_type": "code",
   "execution_count": 25,
   "id": "99a81464-3154-49c5-af7a-599148ac8848",
   "metadata": {},
   "outputs": [
    {
     "name": "stdout",
     "output_type": "stream",
     "text": [
      "2025-03-22 11:29:41,124 INFO sqlalchemy.engine.Engine SELECT DATABASE()\n",
      "2025-03-22 11:29:41,125 INFO sqlalchemy.engine.Engine [raw sql] {}\n",
      "2025-03-22 11:29:41,132 INFO sqlalchemy.engine.Engine SELECT @@sql_mode\n",
      "2025-03-22 11:29:41,133 INFO sqlalchemy.engine.Engine [raw sql] {}\n",
      "2025-03-22 11:29:41,138 INFO sqlalchemy.engine.Engine SELECT @@lower_case_table_names\n",
      "2025-03-22 11:29:41,139 INFO sqlalchemy.engine.Engine [raw sql] {}\n",
      "2025-03-22 11:29:41,149 INFO sqlalchemy.engine.Engine BEGIN (implicit)\n",
      "2025-03-22 11:29:41,170 INFO sqlalchemy.engine.Engine SELECT 1\n",
      "2025-03-22 11:29:41,172 INFO sqlalchemy.engine.Engine [generated in 0.00219s] {}\n",
      "Session connection to DB established successfully!\n",
      "Test query result: [(1,)]\n",
      "2025-03-22 11:29:41,178 INFO sqlalchemy.engine.Engine ROLLBACK\n",
      "Session closed.\n"
     ]
    }
   ],
   "source": [
    "# Test connection\n",
    "try:\n",
    "    result = session.execute(text(\"SELECT 1\")).fetchall()\n",
    "    print(\"Session connection to DB established successfully!\")\n",
    "    print(f\"Test query result: {result}\") # should print[(1,)]\n",
    "except Exception as e:\n",
    "    print(\"Connection test failed:\")\n",
    "    print(traceback.format_exc())\n",
    "finally:\n",
    "    session.close()\n",
    "    print(\"Session closed.\")"
   ]
  },
  {
   "cell_type": "code",
   "execution_count": 28,
   "id": "883b51bb-9808-4367-a413-3d31c8761af4",
   "metadata": {},
   "outputs": [
    {
     "name": "stdout",
     "output_type": "stream",
     "text": [
      "2025-03-22 11:33:19,393 INFO sqlalchemy.engine.Engine BEGIN (implicit)\n",
      "2025-03-22 11:33:19,395 INFO sqlalchemy.engine.Engine SHOW DATABASES\n",
      "2025-03-22 11:33:19,396 INFO sqlalchemy.engine.Engine [generated in 0.00333s] {}\n",
      "2025-03-22 11:33:19,517 INFO sqlalchemy.engine.Engine ROLLBACK\n",
      "Databases:              Database\n",
      "0  information_schema\n",
      "1    movie_downloader\n",
      "2  performance_schema\n"
     ]
    }
   ],
   "source": [
    "# List databases\n",
    "session = Session()\n",
    "try:\n",
    "    dbs = pd.read_sql(text(\"SHOW DATABASES\"), session.bind)\n",
    "    print(\"Databases:\", dbs)\n",
    "    assert DB_NAME in dbs['Database'].values, f\"{DB_NAME} not found!\"\n",
    "except Exception as e:\n",
    "    print(\"Database check failed:\", e)\n",
    "finally:\n",
    "    session.close()"
   ]
  },
  {
   "cell_type": "code",
   "execution_count": 29,
   "id": "dc452a9f-9d6e-402b-83e7-f83b46c14ac2",
   "metadata": {},
   "outputs": [
    {
     "data": {
      "text/html": [
       "<div>\n",
       "<style scoped>\n",
       "    .dataframe tbody tr th:only-of-type {\n",
       "        vertical-align: middle;\n",
       "    }\n",
       "\n",
       "    .dataframe tbody tr th {\n",
       "        vertical-align: top;\n",
       "    }\n",
       "\n",
       "    .dataframe thead th {\n",
       "        text-align: right;\n",
       "    }\n",
       "</style>\n",
       "<table border=\"1\" class=\"dataframe\">\n",
       "  <thead>\n",
       "    <tr style=\"text-align: right;\">\n",
       "      <th></th>\n",
       "      <th>Database</th>\n",
       "    </tr>\n",
       "  </thead>\n",
       "  <tbody>\n",
       "    <tr>\n",
       "      <th>0</th>\n",
       "      <td>information_schema</td>\n",
       "    </tr>\n",
       "    <tr>\n",
       "      <th>1</th>\n",
       "      <td>movie_downloader</td>\n",
       "    </tr>\n",
       "    <tr>\n",
       "      <th>2</th>\n",
       "      <td>performance_schema</td>\n",
       "    </tr>\n",
       "  </tbody>\n",
       "</table>\n",
       "</div>"
      ],
      "text/plain": [
       "             Database\n",
       "0  information_schema\n",
       "1    movie_downloader\n",
       "2  performance_schema"
      ]
     },
     "execution_count": 29,
     "metadata": {},
     "output_type": "execute_result"
    }
   ],
   "source": [
    "dbs"
   ]
  },
  {
   "cell_type": "code",
   "execution_count": 32,
   "id": "ce05b6e1-5c73-44ef-ac5b-1a2011487a84",
   "metadata": {},
   "outputs": [
    {
     "name": "stdout",
     "output_type": "stream",
     "text": [
      "2025-03-22 11:36:55,868 INFO sqlalchemy.engine.Engine BEGIN (implicit)\n",
      "2025-03-22 11:36:55,869 INFO sqlalchemy.engine.Engine SHOW TABLES\n",
      "2025-03-22 11:36:55,870 INFO sqlalchemy.engine.Engine [generated in 0.00270s] {}\n",
      "2025-03-22 11:36:56,000 INFO sqlalchemy.engine.Engine ROLLBACK\n",
      "Tables in movie_downloader :   Tables_in_movie_downloader\n",
      "0              movie_reports\n",
      "1                      users\n"
     ]
    }
   ],
   "source": [
    "# List tables\n",
    "session = Session()\n",
    "try:\n",
    "    tables = pd.read_sql(text(\"SHOW TABLES\"), session.bind)\n",
    "    print(\"Tables in\", DB_NAME, \":\", tables)\n",
    "    assert not tables.empty, f\"No tables found in database {DB_NAME}!\"\n",
    "except Exception as e:\n",
    "    print(\"Table check failed:\", e)\n",
    "finally:\n",
    "    session.close()"
   ]
  },
  {
   "cell_type": "code",
   "execution_count": 33,
   "id": "53a01c47-eda2-4b89-b5ba-f8ef97a5a137",
   "metadata": {},
   "outputs": [
    {
     "data": {
      "text/html": [
       "<div>\n",
       "<style scoped>\n",
       "    .dataframe tbody tr th:only-of-type {\n",
       "        vertical-align: middle;\n",
       "    }\n",
       "\n",
       "    .dataframe tbody tr th {\n",
       "        vertical-align: top;\n",
       "    }\n",
       "\n",
       "    .dataframe thead th {\n",
       "        text-align: right;\n",
       "    }\n",
       "</style>\n",
       "<table border=\"1\" class=\"dataframe\">\n",
       "  <thead>\n",
       "    <tr style=\"text-align: right;\">\n",
       "      <th></th>\n",
       "      <th>Tables_in_movie_downloader</th>\n",
       "    </tr>\n",
       "  </thead>\n",
       "  <tbody>\n",
       "    <tr>\n",
       "      <th>0</th>\n",
       "      <td>movie_reports</td>\n",
       "    </tr>\n",
       "    <tr>\n",
       "      <th>1</th>\n",
       "      <td>users</td>\n",
       "    </tr>\n",
       "  </tbody>\n",
       "</table>\n",
       "</div>"
      ],
      "text/plain": [
       "  Tables_in_movie_downloader\n",
       "0              movie_reports\n",
       "1                      users"
      ]
     },
     "execution_count": 33,
     "metadata": {},
     "output_type": "execute_result"
    }
   ],
   "source": [
    "tables"
   ]
  },
  {
   "cell_type": "code",
   "execution_count": null,
   "id": "0e4758e3-3b5c-40ed-bde6-ce31238ceb41",
   "metadata": {},
   "outputs": [],
   "source": []
  }
 ],
 "metadata": {
  "kernelspec": {
   "display_name": "Python 3 (ipykernel)",
   "language": "python",
   "name": "python3"
  },
  "language_info": {
   "codemirror_mode": {
    "name": "ipython",
    "version": 3
   },
   "file_extension": ".py",
   "mimetype": "text/x-python",
   "name": "python",
   "nbconvert_exporter": "python",
   "pygments_lexer": "ipython3",
   "version": "3.13.0"
  }
 },
 "nbformat": 4,
 "nbformat_minor": 5
}
