{
 "cells": [
  {
   "cell_type": "markdown",
   "id": "e5e01f55-ae19-444e-b8de-89e034a9b2db",
   "metadata": {},
   "source": [
    "See [Colab Notebook](https://colab.research.google.com/drive/1Ou2lV4eNfwZvhX-f-JGA6RjldaonDRaH#scrollTo=HBpaAjpXyoMg)"
   ]
  },
  {
   "cell_type": "code",
   "execution_count": 1,
   "id": "09381e45-a2c5-4210-a410-eb800692f2e7",
   "metadata": {},
   "outputs": [],
   "source": [
    "from constants import DB_HOST, DB_PORT, DB_USER, DB_PASS, DB_NAME, OPENAI_API_KEY, OPENAI_LLM_MODEL"
   ]
  },
  {
   "cell_type": "code",
   "execution_count": 2,
   "id": "c5764c20-a14e-43f8-8389-608cfa81d94f",
   "metadata": {},
   "outputs": [],
   "source": [
    "assert DB_HOST\n",
    "assert DB_PORT\n",
    "assert DB_USER\n",
    "assert DB_PASS\n",
    "assert DB_NAME\n",
    "assert OPENAI_API_KEY\n",
    "assert OPENAI_LLM_MODEL"
   ]
  },
  {
   "cell_type": "code",
   "execution_count": 3,
   "id": "f56c8a16-676a-4b32-8e37-f19761d05109",
   "metadata": {},
   "outputs": [],
   "source": [
    "from presentation_agent import test1"
   ]
  },
  {
   "cell_type": "code",
   "execution_count": 4,
   "id": "ec12e7c5-c917-4f2a-a423-e01780b4b8a3",
   "metadata": {},
   "outputs": [
    {
     "name": "stdout",
     "output_type": "stream",
     "text": [
      "Presentation LLM initialized!\n",
      "Summary for 'What were last month's top products?:\n",
      "Last month, the top-selling products were Product A and Product B. Product A led the sales with 500 units sold, while Product B followed with 300 units sold.\n",
      "\n",
      "To help visualize this information, we can use a bar chart. The chart displays the two products on the x-axis and the number of units sold on the y-axis. This makes it easy to compare the sales performance of each product at a glance. \n",
      "\n",
      "Here's the code used to create the bar chart:\n",
      "\n",
      "```python\n",
      "import plotly.express as px\n",
      "px.bar(x=['Product A', 'Product B'], y=[500, 300])\n",
      "```\n",
      "\n",
      "This chart will clearly show that Product A significantly outperformed Product B in sales last month.\n"
     ]
    }
   ],
   "source": [
    "test1()"
   ]
  },
  {
   "cell_type": "code",
   "execution_count": 5,
   "id": "890e01ec-fb5b-4ad5-8a64-c0939968e7f6",
   "metadata": {},
   "outputs": [
    {
     "name": "stdout",
     "output_type": "stream",
     "text": [
      "Database connection established!\n",
      "2025-04-12 11:31:15,329 INFO sqlalchemy.engine.Engine SELECT DATABASE()\n",
      "2025-04-12 11:31:15,329 INFO sqlalchemy.engine.Engine [raw sql] {}\n",
      "2025-04-12 11:31:15,331 INFO sqlalchemy.engine.Engine SELECT @@sql_mode\n",
      "2025-04-12 11:31:15,331 INFO sqlalchemy.engine.Engine [raw sql] {}\n",
      "2025-04-12 11:31:15,332 INFO sqlalchemy.engine.Engine SELECT @@lower_case_table_names\n",
      "2025-04-12 11:31:15,333 INFO sqlalchemy.engine.Engine [raw sql] {}\n",
      "2025-04-12 11:31:15,335 INFO sqlalchemy.engine.Engine BEGIN (implicit)\n",
      "2025-04-12 11:31:15,336 INFO sqlalchemy.engine.Engine SHOW FULL TABLES FROM `finquery`\n",
      "2025-04-12 11:31:15,336 INFO sqlalchemy.engine.Engine [raw sql] {}\n",
      "2025-04-12 11:31:15,357 INFO sqlalchemy.engine.Engine ROLLBACK\n",
      "2025-04-12 11:31:15,359 INFO sqlalchemy.engine.Engine BEGIN (implicit)\n",
      "2025-04-12 11:31:15,360 INFO sqlalchemy.engine.Engine SHOW FULL TABLES FROM `finquery`\n",
      "2025-04-12 11:31:15,360 INFO sqlalchemy.engine.Engine [raw sql] {}\n",
      "2025-04-12 11:31:15,375 INFO sqlalchemy.engine.Engine SHOW CREATE TABLE `accounting_transactions`\n",
      "2025-04-12 11:31:15,376 INFO sqlalchemy.engine.Engine [raw sql] {}\n",
      "2025-04-12 11:31:15,379 INFO sqlalchemy.engine.Engine SHOW CREATE TABLE `financial_transactions`\n",
      "2025-04-12 11:31:15,379 INFO sqlalchemy.engine.Engine [raw sql] {}\n",
      "2025-04-12 11:31:15,381 INFO sqlalchemy.engine.Engine SHOW CREATE TABLE `sales_data`\n",
      "2025-04-12 11:31:15,382 INFO sqlalchemy.engine.Engine [raw sql] {}\n",
      "2025-04-12 11:31:15,386 INFO sqlalchemy.engine.Engine ROLLBACK\n",
      "LangChain SQLDatabase initialized!\n",
      "OpenAI LLM initialized!\n"
     ]
    }
   ],
   "source": [
    "import crew_orchestrator"
   ]
  },
  {
   "cell_type": "code",
   "execution_count": 6,
   "id": "8ad3931e-f37e-43b1-9243-939e70cd7106",
   "metadata": {},
   "outputs": [
    {
     "name": "stdout",
     "output_type": "stream",
     "text": [
      "Database connection established!\n",
      "2025-04-12 11:31:15,485 INFO sqlalchemy.engine.Engine SELECT DATABASE()\n",
      "2025-04-12 11:31:15,486 INFO sqlalchemy.engine.Engine [raw sql] {}\n",
      "2025-04-12 11:31:15,489 INFO sqlalchemy.engine.Engine SELECT @@sql_mode\n",
      "2025-04-12 11:31:15,490 INFO sqlalchemy.engine.Engine [raw sql] {}\n",
      "2025-04-12 11:31:15,492 INFO sqlalchemy.engine.Engine SELECT @@lower_case_table_names\n",
      "2025-04-12 11:31:15,493 INFO sqlalchemy.engine.Engine [raw sql] {}\n",
      "2025-04-12 11:31:15,497 INFO sqlalchemy.engine.Engine BEGIN (implicit)\n",
      "2025-04-12 11:31:15,499 INFO sqlalchemy.engine.Engine SHOW FULL TABLES FROM `finquery`\n",
      "2025-04-12 11:31:15,502 INFO sqlalchemy.engine.Engine [raw sql] {}\n",
      "2025-04-12 11:31:15,534 INFO sqlalchemy.engine.Engine ROLLBACK\n",
      "2025-04-12 11:31:15,539 INFO sqlalchemy.engine.Engine BEGIN (implicit)\n",
      "2025-04-12 11:31:15,542 INFO sqlalchemy.engine.Engine SHOW FULL TABLES FROM `finquery`\n",
      "2025-04-12 11:31:15,543 INFO sqlalchemy.engine.Engine [raw sql] {}\n",
      "2025-04-12 11:31:15,548 INFO sqlalchemy.engine.Engine SHOW CREATE TABLE `accounting_transactions`\n",
      "2025-04-12 11:31:15,550 INFO sqlalchemy.engine.Engine [raw sql] {}\n",
      "2025-04-12 11:31:15,570 INFO sqlalchemy.engine.Engine SHOW CREATE TABLE `financial_transactions`\n",
      "2025-04-12 11:31:15,591 INFO sqlalchemy.engine.Engine [raw sql] {}\n",
      "2025-04-12 11:31:15,595 INFO sqlalchemy.engine.Engine SHOW CREATE TABLE `sales_data`\n",
      "2025-04-12 11:31:15,597 INFO sqlalchemy.engine.Engine [raw sql] {}\n",
      "2025-04-12 11:31:15,616 INFO sqlalchemy.engine.Engine ROLLBACK\n",
      "LangChain SQLDatabase initialized!\n",
      "OpenAI LLM initialized!\n"
     ]
    }
   ],
   "source": [
    "from sql_agent import initialize_db_connection, get_sql_database, initialize_llm, create_agent as create_sql_agent, run_query\n",
    "\n",
    "engine, session = initialize_db_connection()\n",
    "db = get_sql_database(engine)\n",
    "llm = initialize_llm()\n"
   ]
  },
  {
   "cell_type": "code",
   "execution_count": 20,
   "id": "1f5b2c32-7b77-4c13-8eb8-1fc42119b879",
   "metadata": {},
   "outputs": [],
   "source": [
    "test_query1 = \"What were the top-selling products last month?\"\n",
    "test_query2 = \"Plot a line chart of the monthly sales data.\""
   ]
  },
  {
   "cell_type": "code",
   "execution_count": 21,
   "id": "10b0293e-1fe6-4e21-ba86-ae87c3a8e3d4",
   "metadata": {},
   "outputs": [
    {
     "name": "stdout",
     "output_type": "stream",
     "text": [
      "SQL Agent created successfully!\n"
     ]
    }
   ],
   "source": [
    "agent = create_sql_agent(db, llm)"
   ]
  },
  {
   "cell_type": "markdown",
   "id": "64f7dfc4-3bf6-41a5-a633-74a5b38058d9",
   "metadata": {},
   "source": [
    "# test_query1\n",
    "4 out of 5 executions returned errors due to the fact the LLM thinks the current date is in 2023"
   ]
  },
  {
   "cell_type": "code",
   "execution_count": 22,
   "id": "f839dfe2-b8ba-45f9-8f29-1f4dd4ab81df",
   "metadata": {},
   "outputs": [
    {
     "name": "stdout",
     "output_type": "stream",
     "text": [
      "\n",
      "\n",
      "\u001b[1m> Entering new SQL Agent Executor chain...\u001b[0m\n",
      "\u001b[32;1m\u001b[1;3mAction: sql_db_list_tables  \n",
      "Action Input: \"\"  \u001b[0m\u001b[38;5;200m\u001b[1;3maccounting_transactions, financial_transactions, sales_data\u001b[0m\u001b[32;1m\u001b[1;3mI need to check the schema of the `sales_data` table, as it is likely to contain information about products and their sales.  \n",
      "Action: sql_db_schema  \n",
      "Action Input: \"sales_data\"  \u001b[0m2025-04-12 12:08:57,058 INFO sqlalchemy.engine.Engine BEGIN (implicit)\n",
      "2025-04-12 12:08:57,059 INFO sqlalchemy.engine.Engine SELECT sales_data.order_id, sales_data.product_id, sales_data.product_name, sales_data.category, sales_data.quantity, sales_data.unit_price, sales_data.total_price, sales_data.order_date \n",
      "FROM sales_data \n",
      " LIMIT %(param_1)s\n",
      "2025-04-12 12:08:57,059 INFO sqlalchemy.engine.Engine [cached since 2247s ago] {'param_1': 3}\n",
      "2025-04-12 12:08:57,061 INFO sqlalchemy.engine.Engine ROLLBACK\n",
      "\u001b[33;1m\u001b[1;3m\n",
      "CREATE TABLE sales_data (\n",
      "\torder_id VARCHAR(10), \n",
      "\tproduct_id VARCHAR(10), \n",
      "\tproduct_name VARCHAR(100), \n",
      "\tcategory VARCHAR(50), \n",
      "\tquantity INTEGER, \n",
      "\tunit_price DECIMAL(10, 2), \n",
      "\ttotal_price DECIMAL(10, 2), \n",
      "\torder_date DATE\n",
      ")ENGINE=InnoDB COLLATE utf8mb4_0900_ai_ci DEFAULT CHARSET=utf8mb4\n",
      "\n",
      "/*\n",
      "3 rows from sales_data table:\n",
      "order_id\tproduct_id\tproduct_name\tcategory\tquantity\tunit_price\ttotal_price\torder_date\n",
      "1001\tP007\tNoise Cancelling Headphones\tAudio\t1\t200.00\t200.00\t2025-02-28\n",
      "1002\tP002\tLaptop 15\"\tComputers\t4\t850.00\t3400.00\t2025-02-11\n",
      "1003\tP004\tGaming Keyboard\tAccessories\t2\t120.00\t240.00\t2025-02-08\n",
      "*/\u001b[0m\u001b[32;1m\u001b[1;3mTo find the top-selling products from last month, I need to query the `sales_data` table for the products sold in the previous month, grouping by product and summing the total sales. I will also order the results by total sales in descending order to get the top-selling products.\n",
      "\n",
      "First, I will determine the date range for last month. Assuming the current date is in October 2023, last month would be September 2023.\n",
      "\n",
      "I will construct the query to sum the total sales for each product sold in September 2023.\n",
      "\n",
      "Action: sql_db_query_checker  \n",
      "Action Input: \"SELECT product_id, product_name, SUM(total_price) AS total_sales FROM sales_data WHERE order_date >= '2023-09-01' AND order_date < '2023-10-01' GROUP BY product_id, product_name ORDER BY total_sales DESC LIMIT 10;\"  \u001b[0m\u001b[36;1m\u001b[1;3m```sql\n",
      "SELECT product_id, product_name, SUM(total_price) AS total_sales \n",
      "FROM sales_data \n",
      "WHERE order_date >= '2023-09-01' AND order_date < '2023-10-01' \n",
      "GROUP BY product_id, product_name \n",
      "ORDER BY total_sales DESC \n",
      "LIMIT 10;\n",
      "```\u001b[0m\u001b[32;1m\u001b[1;3mThe query is syntactically correct. Now I will execute it to retrieve the top-selling products from last month.\n",
      "\n",
      "Action: sql_db_query  \n",
      "Action Input: \"SELECT product_id, product_name, SUM(total_price) AS total_sales FROM sales_data WHERE order_date >= '2023-09-01' AND order_date < '2023-10-01' GROUP BY product_id, product_name ORDER BY total_sales DESC LIMIT 10;\"  \u001b[0m2025-04-12 12:09:03,738 INFO sqlalchemy.engine.Engine BEGIN (implicit)\n",
      "2025-04-12 12:09:03,739 INFO sqlalchemy.engine.Engine SELECT product_id, product_name, SUM(total_price) AS total_sales FROM sales_data WHERE order_date >= '2023-09-01' AND order_date < '2023-10-01' GROUP BY product_id, product_name ORDER BY total_sales DESC LIMIT 10;\n",
      "2025-04-12 12:09:03,740 INFO sqlalchemy.engine.Engine [generated in 0.00107s] {}\n",
      "2025-04-12 12:09:03,743 INFO sqlalchemy.engine.Engine COMMIT\n",
      "\u001b[36;1m\u001b[1;3m\u001b[0mError processing query 'What were the top-selling products last month?': An output parsing error occurred. In order to pass this error back to the agent and have it try again, pass `handle_parsing_errors=True` to the AgentExecutor. This is the error: Could not parse LLM output: `I don't know`\n",
      "For troubleshooting, visit: https://python.langchain.com/docs/troubleshooting/errors/OUTPUT_PARSING_FAILURE \n"
     ]
    }
   ],
   "source": [
    "response = run_query(agent, test_query1)\n",
    "print(response)"
   ]
  },
  {
   "cell_type": "code",
   "execution_count": 23,
   "id": "00a6f023-24f7-41cb-894d-3009e8414561",
   "metadata": {},
   "outputs": [
    {
     "name": "stdout",
     "output_type": "stream",
     "text": [
      "\n",
      "\n",
      "\u001b[1m> Entering new SQL Agent Executor chain...\u001b[0m\n",
      "\u001b[32;1m\u001b[1;3mAction: sql_db_list_tables  \n",
      "Action Input: \"\"  \u001b[0m\u001b[38;5;200m\u001b[1;3maccounting_transactions, financial_transactions, sales_data\u001b[0m\u001b[32;1m\u001b[1;3mI need to check the schema of the `sales_data` table, as it is likely to contain information about products and their sales.  \n",
      "Action: sql_db_schema  \n",
      "Action Input: \"sales_data\"  \u001b[0m2025-04-12 12:10:12,390 INFO sqlalchemy.engine.Engine BEGIN (implicit)\n",
      "2025-04-12 12:10:12,391 INFO sqlalchemy.engine.Engine SELECT sales_data.order_id, sales_data.product_id, sales_data.product_name, sales_data.category, sales_data.quantity, sales_data.unit_price, sales_data.total_price, sales_data.order_date \n",
      "FROM sales_data \n",
      " LIMIT %(param_1)s\n",
      "2025-04-12 12:10:12,391 INFO sqlalchemy.engine.Engine [cached since 2322s ago] {'param_1': 3}\n",
      "2025-04-12 12:10:12,393 INFO sqlalchemy.engine.Engine ROLLBACK\n",
      "\u001b[33;1m\u001b[1;3m\n",
      "CREATE TABLE sales_data (\n",
      "\torder_id VARCHAR(10), \n",
      "\tproduct_id VARCHAR(10), \n",
      "\tproduct_name VARCHAR(100), \n",
      "\tcategory VARCHAR(50), \n",
      "\tquantity INTEGER, \n",
      "\tunit_price DECIMAL(10, 2), \n",
      "\ttotal_price DECIMAL(10, 2), \n",
      "\torder_date DATE\n",
      ")ENGINE=InnoDB COLLATE utf8mb4_0900_ai_ci DEFAULT CHARSET=utf8mb4\n",
      "\n",
      "/*\n",
      "3 rows from sales_data table:\n",
      "order_id\tproduct_id\tproduct_name\tcategory\tquantity\tunit_price\ttotal_price\torder_date\n",
      "1001\tP007\tNoise Cancelling Headphones\tAudio\t1\t200.00\t200.00\t2025-02-28\n",
      "1002\tP002\tLaptop 15\"\tComputers\t4\t850.00\t3400.00\t2025-02-11\n",
      "1003\tP004\tGaming Keyboard\tAccessories\t2\t120.00\t240.00\t2025-02-08\n",
      "*/\u001b[0m\u001b[32;1m\u001b[1;3mTo find the top-selling products from last month, I need to query the `sales_data` table for the products sold in the previous month, grouping by product and summing the total sales. I will also order the results by total sales in descending order to get the top-selling products.\n",
      "\n",
      "First, I need to determine the date range for last month. Assuming the current date is in October 2023, last month would be September 2023.\n",
      "\n",
      "I will construct the SQL query accordingly.\n",
      "\n",
      "Action: sql_db_query_checker  \n",
      "Action Input: \"SELECT product_id, product_name, SUM(total_price) AS total_sales FROM sales_data WHERE order_date >= '2023-09-01' AND order_date < '2023-10-01' GROUP BY product_id, product_name ORDER BY total_sales DESC LIMIT 10;\"  \u001b[0m\u001b[36;1m\u001b[1;3m```sql\n",
      "SELECT product_id, product_name, SUM(total_price) AS total_sales \n",
      "FROM sales_data \n",
      "WHERE order_date >= '2023-09-01' AND order_date < '2023-10-01' \n",
      "GROUP BY product_id, product_name \n",
      "ORDER BY total_sales DESC \n",
      "LIMIT 10;\n",
      "```\u001b[0m\u001b[32;1m\u001b[1;3mThe query is syntactically correct. Now I will execute it to retrieve the top-selling products from last month.\n",
      "\n",
      "Action: sql_db_query  \n",
      "Action Input: \"SELECT product_id, product_name, SUM(total_price) AS total_sales FROM sales_data WHERE order_date >= '2023-09-01' AND order_date < '2023-10-01' GROUP BY product_id, product_name ORDER BY total_sales DESC LIMIT 10;\"  \u001b[0m2025-04-12 12:10:18,892 INFO sqlalchemy.engine.Engine BEGIN (implicit)\n",
      "2025-04-12 12:10:18,893 INFO sqlalchemy.engine.Engine SELECT product_id, product_name, SUM(total_price) AS total_sales FROM sales_data WHERE order_date >= '2023-09-01' AND order_date < '2023-10-01' GROUP BY product_id, product_name ORDER BY total_sales DESC LIMIT 10;\n",
      "2025-04-12 12:10:18,893 INFO sqlalchemy.engine.Engine [cached since 75.15s ago] {}\n",
      "2025-04-12 12:10:18,896 INFO sqlalchemy.engine.Engine COMMIT\n",
      "\u001b[36;1m\u001b[1;3m\u001b[0mError processing query 'What were the top-selling products last month?': An output parsing error occurred. In order to pass this error back to the agent and have it try again, pass `handle_parsing_errors=True` to the AgentExecutor. This is the error: Could not parse LLM output: `I don't know.`\n",
      "For troubleshooting, visit: https://python.langchain.com/docs/troubleshooting/errors/OUTPUT_PARSING_FAILURE \n"
     ]
    }
   ],
   "source": [
    "response = run_query(agent, test_query1)\n",
    "print(response)"
   ]
  },
  {
   "cell_type": "code",
   "execution_count": 24,
   "id": "f114a673-434e-45b5-9f44-1568dd5c72f7",
   "metadata": {},
   "outputs": [
    {
     "name": "stdout",
     "output_type": "stream",
     "text": [
      "\n",
      "\n",
      "\u001b[1m> Entering new SQL Agent Executor chain...\u001b[0m\n",
      "\u001b[32;1m\u001b[1;3mAction: sql_db_list_tables  \n",
      "Action Input: \"\"  \u001b[0m\u001b[38;5;200m\u001b[1;3maccounting_transactions, financial_transactions, sales_data\u001b[0m\u001b[32;1m\u001b[1;3mI need to check the schema of the `sales_data` table, as it is likely to contain information about products and their sales.  \n",
      "Action: sql_db_schema  \n",
      "Action Input: \"sales_data\"  \u001b[0m2025-04-12 12:10:28,391 INFO sqlalchemy.engine.Engine BEGIN (implicit)\n",
      "2025-04-12 12:10:28,391 INFO sqlalchemy.engine.Engine SELECT sales_data.order_id, sales_data.product_id, sales_data.product_name, sales_data.category, sales_data.quantity, sales_data.unit_price, sales_data.total_price, sales_data.order_date \n",
      "FROM sales_data \n",
      " LIMIT %(param_1)s\n",
      "2025-04-12 12:10:28,392 INFO sqlalchemy.engine.Engine [cached since 2338s ago] {'param_1': 3}\n",
      "2025-04-12 12:10:28,393 INFO sqlalchemy.engine.Engine ROLLBACK\n",
      "\u001b[33;1m\u001b[1;3m\n",
      "CREATE TABLE sales_data (\n",
      "\torder_id VARCHAR(10), \n",
      "\tproduct_id VARCHAR(10), \n",
      "\tproduct_name VARCHAR(100), \n",
      "\tcategory VARCHAR(50), \n",
      "\tquantity INTEGER, \n",
      "\tunit_price DECIMAL(10, 2), \n",
      "\ttotal_price DECIMAL(10, 2), \n",
      "\torder_date DATE\n",
      ")ENGINE=InnoDB COLLATE utf8mb4_0900_ai_ci DEFAULT CHARSET=utf8mb4\n",
      "\n",
      "/*\n",
      "3 rows from sales_data table:\n",
      "order_id\tproduct_id\tproduct_name\tcategory\tquantity\tunit_price\ttotal_price\torder_date\n",
      "1001\tP007\tNoise Cancelling Headphones\tAudio\t1\t200.00\t200.00\t2025-02-28\n",
      "1002\tP002\tLaptop 15\"\tComputers\t4\t850.00\t3400.00\t2025-02-11\n",
      "1003\tP004\tGaming Keyboard\tAccessories\t2\t120.00\t240.00\t2025-02-08\n",
      "*/\u001b[0m\u001b[32;1m\u001b[1;3mTo find the top-selling products from last month, I need to query the `sales_data` table for the products sold in the previous month, grouping by product and summing the total sales. I will also order the results by total sales in descending order to get the top-selling products.\n",
      "\n",
      "First, I will determine the date range for last month. Assuming the current date is in October 2023, last month would be September 2023.\n",
      "\n",
      "I will construct the SQL query accordingly.\n",
      "\n",
      "Action: sql_db_query_checker  \n",
      "Action Input: \"SELECT product_id, product_name, SUM(total_price) AS total_sales FROM sales_data WHERE order_date >= '2023-09-01' AND order_date < '2023-10-01' GROUP BY product_id, product_name ORDER BY total_sales DESC LIMIT 10;\"  \u001b[0m\u001b[36;1m\u001b[1;3m```sql\n",
      "SELECT product_id, product_name, SUM(total_price) AS total_sales \n",
      "FROM sales_data \n",
      "WHERE order_date >= '2023-09-01' AND order_date < '2023-10-01' \n",
      "GROUP BY product_id, product_name \n",
      "ORDER BY total_sales DESC \n",
      "LIMIT 10;\n",
      "```\u001b[0m\u001b[32;1m\u001b[1;3mThe query is syntactically correct. Now I will execute it to retrieve the top-selling products from last month.\n",
      "\n",
      "Action: sql_db_query  \n",
      "Action Input: \"SELECT product_id, product_name, SUM(total_price) AS total_sales FROM sales_data WHERE order_date >= '2023-09-01' AND order_date < '2023-10-01' GROUP BY product_id, product_name ORDER BY total_sales DESC LIMIT 10;\"  \u001b[0m2025-04-12 12:10:35,793 INFO sqlalchemy.engine.Engine BEGIN (implicit)\n",
      "2025-04-12 12:10:35,795 INFO sqlalchemy.engine.Engine SELECT product_id, product_name, SUM(total_price) AS total_sales FROM sales_data WHERE order_date >= '2023-09-01' AND order_date < '2023-10-01' GROUP BY product_id, product_name ORDER BY total_sales DESC LIMIT 10;\n",
      "2025-04-12 12:10:35,796 INFO sqlalchemy.engine.Engine [cached since 92.06s ago] {}\n",
      "2025-04-12 12:10:35,798 INFO sqlalchemy.engine.Engine COMMIT\n",
      "\u001b[36;1m\u001b[1;3m\u001b[0mError processing query 'What were the top-selling products last month?': An output parsing error occurred. In order to pass this error back to the agent and have it try again, pass `handle_parsing_errors=True` to the AgentExecutor. This is the error: Could not parse LLM output: `I don't know`\n",
      "For troubleshooting, visit: https://python.langchain.com/docs/troubleshooting/errors/OUTPUT_PARSING_FAILURE \n"
     ]
    }
   ],
   "source": [
    "response = run_query(agent, test_query1)\n",
    "print(response)"
   ]
  },
  {
   "cell_type": "code",
   "execution_count": 25,
   "id": "75675d59-8424-41b1-a7ea-4d8a8f863980",
   "metadata": {},
   "outputs": [
    {
     "name": "stdout",
     "output_type": "stream",
     "text": [
      "\n",
      "\n",
      "\u001b[1m> Entering new SQL Agent Executor chain...\u001b[0m\n",
      "\u001b[32;1m\u001b[1;3mAction: sql_db_list_tables  \n",
      "Action Input: \"\"  \u001b[0m\u001b[38;5;200m\u001b[1;3maccounting_transactions, financial_transactions, sales_data\u001b[0m\u001b[32;1m\u001b[1;3mI need to check the schema of the `sales_data` table, as it is likely to contain information about products and their sales.  \n",
      "Action: sql_db_schema  \n",
      "Action Input: \"sales_data\"  \u001b[0m2025-04-12 12:11:22,124 INFO sqlalchemy.engine.Engine BEGIN (implicit)\n",
      "2025-04-12 12:11:22,124 INFO sqlalchemy.engine.Engine SELECT sales_data.order_id, sales_data.product_id, sales_data.product_name, sales_data.category, sales_data.quantity, sales_data.unit_price, sales_data.total_price, sales_data.order_date \n",
      "FROM sales_data \n",
      " LIMIT %(param_1)s\n",
      "2025-04-12 12:11:22,125 INFO sqlalchemy.engine.Engine [cached since 2392s ago] {'param_1': 3}\n",
      "2025-04-12 12:11:22,126 INFO sqlalchemy.engine.Engine ROLLBACK\n",
      "\u001b[33;1m\u001b[1;3m\n",
      "CREATE TABLE sales_data (\n",
      "\torder_id VARCHAR(10), \n",
      "\tproduct_id VARCHAR(10), \n",
      "\tproduct_name VARCHAR(100), \n",
      "\tcategory VARCHAR(50), \n",
      "\tquantity INTEGER, \n",
      "\tunit_price DECIMAL(10, 2), \n",
      "\ttotal_price DECIMAL(10, 2), \n",
      "\torder_date DATE\n",
      ")ENGINE=InnoDB COLLATE utf8mb4_0900_ai_ci DEFAULT CHARSET=utf8mb4\n",
      "\n",
      "/*\n",
      "3 rows from sales_data table:\n",
      "order_id\tproduct_id\tproduct_name\tcategory\tquantity\tunit_price\ttotal_price\torder_date\n",
      "1001\tP007\tNoise Cancelling Headphones\tAudio\t1\t200.00\t200.00\t2025-02-28\n",
      "1002\tP002\tLaptop 15\"\tComputers\t4\t850.00\t3400.00\t2025-02-11\n",
      "1003\tP004\tGaming Keyboard\tAccessories\t2\t120.00\t240.00\t2025-02-08\n",
      "*/\u001b[0m\u001b[32;1m\u001b[1;3mTo find the top-selling products from last month, I need to query the `sales_data` table for the products sold in the previous month, grouping by product and summing the total sales. I will also order the results by total sales in descending order to get the top-selling products.\n",
      "\n",
      "First, I need to determine the date range for last month. Assuming the current date is in October 2023, last month would be September 2023.\n",
      "\n",
      "I will construct the SQL query accordingly.\n",
      "\n",
      "Action: sql_db_query_checker  \n",
      "Action Input: \"SELECT product_id, product_name, SUM(total_price) AS total_sales FROM sales_data WHERE order_date >= '2023-09-01' AND order_date < '2023-10-01' GROUP BY product_id, product_name ORDER BY total_sales DESC LIMIT 10;\"  \u001b[0m\u001b[36;1m\u001b[1;3m```sql\n",
      "SELECT product_id, product_name, SUM(total_price) AS total_sales \n",
      "FROM sales_data \n",
      "WHERE order_date >= '2023-09-01' AND order_date < '2023-10-01' \n",
      "GROUP BY product_id, product_name \n",
      "ORDER BY total_sales DESC \n",
      "LIMIT 10;\n",
      "```\u001b[0m\u001b[32;1m\u001b[1;3mThe query is syntactically correct. Now I will execute it to retrieve the results.  \n",
      "Action: sql_db_query  \n",
      "Action Input: \"SELECT product_id, product_name, SUM(total_price) AS total_sales FROM sales_data WHERE order_date >= '2023-09-01' AND order_date < '2023-10-01' GROUP BY product_id, product_name ORDER BY total_sales DESC LIMIT 10;\"  \u001b[0m2025-04-12 12:11:28,471 INFO sqlalchemy.engine.Engine BEGIN (implicit)\n",
      "2025-04-12 12:11:28,472 INFO sqlalchemy.engine.Engine SELECT product_id, product_name, SUM(total_price) AS total_sales FROM sales_data WHERE order_date >= '2023-09-01' AND order_date < '2023-10-01' GROUP BY product_id, product_name ORDER BY total_sales DESC LIMIT 10;\n",
      "2025-04-12 12:11:28,473 INFO sqlalchemy.engine.Engine [cached since 144.7s ago] {}\n",
      "2025-04-12 12:11:28,474 INFO sqlalchemy.engine.Engine COMMIT\n",
      "\u001b[36;1m\u001b[1;3m\u001b[0mError processing query 'What were the top-selling products last month?': An output parsing error occurred. In order to pass this error back to the agent and have it try again, pass `handle_parsing_errors=True` to the AgentExecutor. This is the error: Could not parse LLM output: `I don't know`\n",
      "For troubleshooting, visit: https://python.langchain.com/docs/troubleshooting/errors/OUTPUT_PARSING_FAILURE \n"
     ]
    }
   ],
   "source": [
    "response = run_query(agent, test_query1)\n",
    "print(response)"
   ]
  },
  {
   "cell_type": "code",
   "execution_count": 26,
   "id": "c97afebc-f8a6-40e9-8155-a2ef4ec59b42",
   "metadata": {},
   "outputs": [
    {
     "name": "stdout",
     "output_type": "stream",
     "text": [
      "\n",
      "\n",
      "\u001b[1m> Entering new SQL Agent Executor chain...\u001b[0m\n",
      "\u001b[32;1m\u001b[1;3mAction: sql_db_list_tables  \n",
      "Action Input: \"\"  \u001b[0m\u001b[38;5;200m\u001b[1;3maccounting_transactions, financial_transactions, sales_data\u001b[0m\u001b[32;1m\u001b[1;3mI need to check the schema of the `sales_data` table, as it is likely to contain information about products and their sales.  \n",
      "Action: sql_db_schema  \n",
      "Action Input: \"sales_data\"  \u001b[0m2025-04-12 12:11:50,594 INFO sqlalchemy.engine.Engine BEGIN (implicit)\n",
      "2025-04-12 12:11:50,595 INFO sqlalchemy.engine.Engine SELECT sales_data.order_id, sales_data.product_id, sales_data.product_name, sales_data.category, sales_data.quantity, sales_data.unit_price, sales_data.total_price, sales_data.order_date \n",
      "FROM sales_data \n",
      " LIMIT %(param_1)s\n",
      "2025-04-12 12:11:50,596 INFO sqlalchemy.engine.Engine [cached since 2420s ago] {'param_1': 3}\n",
      "2025-04-12 12:11:50,598 INFO sqlalchemy.engine.Engine ROLLBACK\n",
      "\u001b[33;1m\u001b[1;3m\n",
      "CREATE TABLE sales_data (\n",
      "\torder_id VARCHAR(10), \n",
      "\tproduct_id VARCHAR(10), \n",
      "\tproduct_name VARCHAR(100), \n",
      "\tcategory VARCHAR(50), \n",
      "\tquantity INTEGER, \n",
      "\tunit_price DECIMAL(10, 2), \n",
      "\ttotal_price DECIMAL(10, 2), \n",
      "\torder_date DATE\n",
      ")ENGINE=InnoDB COLLATE utf8mb4_0900_ai_ci DEFAULT CHARSET=utf8mb4\n",
      "\n",
      "/*\n",
      "3 rows from sales_data table:\n",
      "order_id\tproduct_id\tproduct_name\tcategory\tquantity\tunit_price\ttotal_price\torder_date\n",
      "1001\tP007\tNoise Cancelling Headphones\tAudio\t1\t200.00\t200.00\t2025-02-28\n",
      "1002\tP002\tLaptop 15\"\tComputers\t4\t850.00\t3400.00\t2025-02-11\n",
      "1003\tP004\tGaming Keyboard\tAccessories\t2\t120.00\t240.00\t2025-02-08\n",
      "*/\u001b[0m\u001b[32;1m\u001b[1;3mTo find the top-selling products from last month, I need to query the `sales_data` table for the products sold in the previous month, grouping by product and summing the total sales. I will also order the results by total sales in descending order to get the top-selling products.\n",
      "\n",
      "First, I will construct the query to get the top-selling products for the last month.\n",
      "\n",
      "Action: sql_db_query_checker  \n",
      "Action Input: \"SELECT product_id, product_name, SUM(total_price) AS total_sales FROM sales_data WHERE order_date >= DATE_SUB(CURDATE(), INTERVAL 1 MONTH) AND order_date < CURDATE() GROUP BY product_id, product_name ORDER BY total_sales DESC LIMIT 10;\"  \u001b[0m\u001b[36;1m\u001b[1;3m```sql\n",
      "SELECT product_id, product_name, SUM(total_price) AS total_sales \n",
      "FROM sales_data \n",
      "WHERE order_date >= DATE_SUB(CURDATE(), INTERVAL 1 MONTH) \n",
      "  AND order_date < CURDATE() \n",
      "GROUP BY product_id, product_name \n",
      "ORDER BY total_sales DESC \n",
      "LIMIT 10;\n",
      "```\u001b[0m\u001b[32;1m\u001b[1;3mThe query is syntactically correct. Now I will execute it to retrieve the results.\n",
      "\n",
      "Action: sql_db_query  \n",
      "Action Input: \"SELECT product_id, product_name, SUM(total_price) AS total_sales FROM sales_data WHERE order_date >= DATE_SUB(CURDATE(), INTERVAL 1 MONTH) AND order_date < CURDATE() GROUP BY product_id, product_name ORDER BY total_sales DESC LIMIT 10;\"  \u001b[0m2025-04-12 12:11:55,943 INFO sqlalchemy.engine.Engine BEGIN (implicit)\n",
      "2025-04-12 12:11:55,943 INFO sqlalchemy.engine.Engine SELECT product_id, product_name, SUM(total_price) AS total_sales FROM sales_data WHERE order_date >= DATE_SUB(CURDATE(), INTERVAL 1 MONTH) AND order_date < CURDATE() GROUP BY product_id, product_name ORDER BY total_sales DESC LIMIT 10;\n",
      "2025-04-12 12:11:55,944 INFO sqlalchemy.engine.Engine [cached since 1973s ago] {}\n",
      "2025-04-12 12:11:55,946 INFO sqlalchemy.engine.Engine COMMIT\n",
      "\u001b[36;1m\u001b[1;3m[('P002', 'Laptop 15\"', Decimal('8500.00')), ('P005', 'Monitor 27\"', Decimal('4200.00')), ('P007', 'Noise Cancelling Headphones', Decimal('2400.00')), ('P006', 'External SSD 1TB', Decimal('900.00')), ('P003', 'USB-C Hub', Decimal('280.00')), ('P001', 'Wireless Mouse', Decimal('275.00')), ('P004', 'Gaming Keyboard', Decimal('240.00'))]\u001b[0m\u001b[32;1m\u001b[1;3mI now know the final answer. The top-selling products last month were:\n",
      "\n",
      "1. Laptop 15\" - $8500.00\n",
      "2. Monitor 27\" - $4200.00\n",
      "3. Noise Cancelling Headphones - $2400.00\n",
      "4. External SSD 1TB - $900.00\n",
      "5. USB-C Hub - $280.00\n",
      "6. Wireless Mouse - $275.00\n",
      "7. Gaming Keyboard - $240.00\n",
      "\n",
      "Final Answer: The top-selling products last month were: Laptop 15\" ($8500.00), Monitor 27\" ($4200.00), Noise Cancelling Headphones ($2400.00), External SSD 1TB ($900.00), USB-C Hub ($280.00), Wireless Mouse ($275.00), and Gaming Keyboard ($240.00).\u001b[0m\n",
      "\n",
      "\u001b[1m> Finished chain.\u001b[0m\n",
      "Here's what I found for 'What were the top-selling products last month?':\n",
      "The top-selling products last month were: Laptop 15\" ($8500.00), Monitor 27\" ($4200.00), Noise Cancelling Headphones ($2400.00), External SSD 1TB ($900.00), USB-C Hub ($280.00), Wireless Mouse ($275.00), and Gaming Keyboard ($240.00).\n"
     ]
    }
   ],
   "source": [
    "response = run_query(agent, test_query1)\n",
    "print(response)"
   ]
  },
  {
   "cell_type": "markdown",
   "id": "6cfb0757-1fa1-4f2e-ad5c-b803c4b22452",
   "metadata": {},
   "source": [
    "# test query 2"
   ]
  },
  {
   "cell_type": "code",
   "execution_count": 27,
   "id": "d8715c8f-5e1a-475c-9704-5be5934d93ea",
   "metadata": {},
   "outputs": [
    {
     "name": "stdout",
     "output_type": "stream",
     "text": [
      "\n",
      "\n",
      "\u001b[1m> Entering new SQL Agent Executor chain...\u001b[0m\n",
      "\u001b[32;1m\u001b[1;3mAction: sql_db_list_tables  \n",
      "Action Input: \"\"  \u001b[0m\u001b[38;5;200m\u001b[1;3maccounting_transactions, financial_transactions, sales_data\u001b[0m\u001b[32;1m\u001b[1;3mI should check the schema of the `sales_data` table, as it is likely to contain the monthly sales information I need for the line chart.  \n",
      "Action: sql_db_schema  \n",
      "Action Input: \"sales_data\"  \u001b[0m2025-04-12 12:14:06,399 INFO sqlalchemy.engine.Engine BEGIN (implicit)\n",
      "2025-04-12 12:14:06,400 INFO sqlalchemy.engine.Engine SELECT sales_data.order_id, sales_data.product_id, sales_data.product_name, sales_data.category, sales_data.quantity, sales_data.unit_price, sales_data.total_price, sales_data.order_date \n",
      "FROM sales_data \n",
      " LIMIT %(param_1)s\n",
      "2025-04-12 12:14:06,400 INFO sqlalchemy.engine.Engine [cached since 2556s ago] {'param_1': 3}\n",
      "2025-04-12 12:14:06,402 INFO sqlalchemy.engine.Engine ROLLBACK\n",
      "\u001b[33;1m\u001b[1;3m\n",
      "CREATE TABLE sales_data (\n",
      "\torder_id VARCHAR(10), \n",
      "\tproduct_id VARCHAR(10), \n",
      "\tproduct_name VARCHAR(100), \n",
      "\tcategory VARCHAR(50), \n",
      "\tquantity INTEGER, \n",
      "\tunit_price DECIMAL(10, 2), \n",
      "\ttotal_price DECIMAL(10, 2), \n",
      "\torder_date DATE\n",
      ")ENGINE=InnoDB COLLATE utf8mb4_0900_ai_ci DEFAULT CHARSET=utf8mb4\n",
      "\n",
      "/*\n",
      "3 rows from sales_data table:\n",
      "order_id\tproduct_id\tproduct_name\tcategory\tquantity\tunit_price\ttotal_price\torder_date\n",
      "1001\tP007\tNoise Cancelling Headphones\tAudio\t1\t200.00\t200.00\t2025-02-28\n",
      "1002\tP002\tLaptop 15\"\tComputers\t4\t850.00\t3400.00\t2025-02-11\n",
      "1003\tP004\tGaming Keyboard\tAccessories\t2\t120.00\t240.00\t2025-02-08\n",
      "*/\u001b[0m\u001b[32;1m\u001b[1;3mTo plot a line chart of monthly sales data, I need to aggregate the sales data by month. I will query the `sales_data` table to get the total sales for each month. The relevant columns for this query will be the `total_price` and `order_date`. I will group the results by month and year.\n",
      "\n",
      "Action: sql_db_query_checker  \n",
      "Action Input: \"SELECT DATE_FORMAT(order_date, '%Y-%m') AS month, SUM(total_price) AS total_sales FROM sales_data GROUP BY month ORDER BY month LIMIT 10;\"  \u001b[0m\u001b[36;1m\u001b[1;3m```sql\n",
      "SELECT DATE_FORMAT(order_date, '%Y-%m') AS month, SUM(total_price) AS total_sales FROM sales_data GROUP BY month ORDER BY month LIMIT 10;\n",
      "```\u001b[0m\u001b[32;1m\u001b[1;3mThe query is syntactically correct. Now I will execute it to retrieve the monthly sales data.\n",
      "\n",
      "Action: sql_db_query  \n",
      "Action Input: \"SELECT DATE_FORMAT(order_date, '%Y-%m') AS month, SUM(total_price) AS total_sales FROM sales_data GROUP BY month ORDER BY month LIMIT 10;\"  \u001b[0m2025-04-12 12:14:10,757 INFO sqlalchemy.engine.Engine BEGIN (implicit)\n",
      "2025-04-12 12:14:10,758 INFO sqlalchemy.engine.Engine SELECT DATE_FORMAT(order_date, '%Y-%m') AS month, SUM(total_price) AS total_sales FROM sales_data GROUP BY month ORDER BY month LIMIT 10;\n",
      "2025-04-12 12:14:10,759 INFO sqlalchemy.engine.Engine [generated in 0.00077s] {}\n",
      "2025-04-12 12:14:10,762 INFO sqlalchemy.engine.Engine COMMIT\n",
      "\u001b[36;1m\u001b[1;3m[('2025-01', Decimal('22920.00')), ('2025-02', Decimal('22405.00')), ('2025-03', Decimal('24145.00'))]\u001b[0m\u001b[32;1m\u001b[1;3mI now know the final answer. The monthly sales data is as follows:\n",
      "\n",
      "- January 2025: $22,920.00\n",
      "- February 2025: $22,405.00\n",
      "- March 2025: $24,145.00\n",
      "\n",
      "Final Answer: The monthly sales data is:\n",
      "- January 2025: $22,920.00\n",
      "- February 2025: $22,405.00\n",
      "- March 2025: $24,145.00\u001b[0m\n",
      "\n",
      "\u001b[1m> Finished chain.\u001b[0m\n",
      "Here's what I found for 'Plot a line chart of the monthly sales data.':\n",
      "The monthly sales data is:\n",
      "- January 2025: $22,920.00\n",
      "- February 2025: $22,405.00\n",
      "- March 2025: $24,145.00\n"
     ]
    }
   ],
   "source": [
    "response = run_query(agent, test_query2)\n",
    "print(response)"
   ]
  },
  {
   "cell_type": "code",
   "execution_count": null,
   "id": "7a4530c1-ce43-4513-af28-ef85110b895f",
   "metadata": {},
   "outputs": [],
   "source": []
  }
 ],
 "metadata": {
  "kernelspec": {
   "display_name": "Python 3 (ipykernel)",
   "language": "python",
   "name": "python3"
  },
  "language_info": {
   "codemirror_mode": {
    "name": "ipython",
    "version": 3
   },
   "file_extension": ".py",
   "mimetype": "text/x-python",
   "name": "python",
   "nbconvert_exporter": "python",
   "pygments_lexer": "ipython3",
   "version": "3.13.0"
  }
 },
 "nbformat": 4,
 "nbformat_minor": 5
}
