{
 "cells": [
  {
   "cell_type": "markdown",
   "id": "e5e01f55-ae19-444e-b8de-89e034a9b2db",
   "metadata": {},
   "source": [
    "See [Colab Notebook](https://colab.research.google.com/drive/1Ou2lV4eNfwZvhX-f-JGA6RjldaonDRaH#scrollTo=HBpaAjpXyoMg)"
   ]
  },
  {
   "cell_type": "code",
   "execution_count": 1,
   "id": "09381e45-a2c5-4210-a410-eb800692f2e7",
   "metadata": {},
   "outputs": [],
   "source": [
    "from constants import DB_HOST, DB_PORT, DB_USER, DB_PASS, DB_NAME, OPENAI_API_KEY, OPENAI_LLM_MODEL"
   ]
  },
  {
   "cell_type": "code",
   "execution_count": 2,
   "id": "c5764c20-a14e-43f8-8389-608cfa81d94f",
   "metadata": {},
   "outputs": [],
   "source": [
    "assert DB_HOST\n",
    "assert DB_PORT\n",
    "assert DB_USER\n",
    "assert DB_PASS\n",
    "assert DB_NAME\n",
    "assert OPENAI_API_KEY\n",
    "assert OPENAI_LLM_MODEL"
   ]
  },
  {
   "cell_type": "code",
   "execution_count": 8,
   "id": "f56c8a16-676a-4b32-8e37-f19761d05109",
   "metadata": {},
   "outputs": [],
   "source": [
    "from presentation_agent import test1"
   ]
  },
  {
   "cell_type": "code",
   "execution_count": 9,
   "id": "ec12e7c5-c917-4f2a-a423-e01780b4b8a3",
   "metadata": {},
   "outputs": [
    {
     "name": "stdout",
     "output_type": "stream",
     "text": [
      "Presentation LLM initialized!\n",
      "Summary for 'What were last month's top products?:\n",
      "Last month, the top-selling products were Product A and Product B. Product A led the sales with 500 units sold, while Product B followed with 300 units sold.\n",
      "\n",
      "To help visualize this information, we can use a bar chart. The chart displays the sales figures for each product, with Product A represented by a taller bar, indicating its higher sales compared to Product B. This visual representation makes it easy to compare the performance of these two products at a glance. \n",
      "\n",
      "Here's a simple code snippet that creates this bar chart using Plotly:\n",
      "\n",
      "```python\n",
      "import plotly.express as px\n",
      "px.bar(x=['Product A', 'Product B'], y=[500, 300])\n",
      "```\n",
      "\n",
      "This chart will clearly show the difference in sales between the two products.\n"
     ]
    }
   ],
   "source": [
    "test1()"
   ]
  },
  {
   "cell_type": "code",
   "execution_count": null,
   "id": "890e01ec-fb5b-4ad5-8a64-c0939968e7f6",
   "metadata": {},
   "outputs": [],
   "source": []
  }
 ],
 "metadata": {
  "kernelspec": {
   "display_name": "Python 3 (ipykernel)",
   "language": "python",
   "name": "python3"
  },
  "language_info": {
   "codemirror_mode": {
    "name": "ipython",
    "version": 3
   },
   "file_extension": ".py",
   "mimetype": "text/x-python",
   "name": "python",
   "nbconvert_exporter": "python",
   "pygments_lexer": "ipython3",
   "version": "3.13.0"
  }
 },
 "nbformat": 4,
 "nbformat_minor": 5
}
