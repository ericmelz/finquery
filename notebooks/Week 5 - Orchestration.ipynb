{
 "cells": [
  {
   "cell_type": "code",
   "execution_count": 1,
   "id": "580a083c-76de-4a12-82fa-ef06c25ee115",
   "metadata": {},
   "outputs": [],
   "source": [
    "import orchestrator2"
   ]
  },
  {
   "cell_type": "code",
   "execution_count": 2,
   "id": "ef4ad66d-42de-4d7d-87f9-2ec52d73cf01",
   "metadata": {},
   "outputs": [],
   "source": [
    "test_question1 = \"What were the top-selling products last month?\"\n",
    "test_question2 = \"Plot a line chart of the monthly sales data.\"\n",
    "test_question3 = \"What were the top-selling products of all time?\"\n",
    "test_question4 = 'What is the minimum sale amount?'\n",
    "questions = [test_question1, test_question2, test_question3, test_question4]"
   ]
  },
  {
   "cell_type": "code",
   "execution_count": 4,
   "id": "c3f7b0fe-a46a-4d53-bd2b-d20274869ac6",
   "metadata": {},
   "outputs": [
    {
     "name": "stdout",
     "output_type": "stream",
     "text": [
      "Database connection established!\n",
      "LangChain SQLDatabase initialized!\n",
      "Presentation LLM initialized!\n",
      "Summary for 'What were the top-selling products last month?:\n",
      "The top-selling products last month were Noise Cancelling Headphones, Monitor 27\", Laptop 15\", Wireless Mouse, and USB-C Hub. Noise Cancelling Headphones had the highest total quantity sold with 18 units, followed closely by Monitor 27\" with 17 units and Laptop 15\" with 15 units. Wireless Mouse and USB-C Hub both had 11 units sold each. This information provides insight into the most popular products among customers in the previous month.\n"
     ]
    }
   ],
   "source": [
    "response = orchestrator2.rule_based_router(test_question1)\n",
    "print(response)"
   ]
  },
  {
   "cell_type": "code",
   "execution_count": null,
   "id": "dc867b91-9ef9-4bad-a6ba-dc5f3b283f14",
   "metadata": {},
   "outputs": [],
   "source": []
  }
 ],
 "metadata": {
  "kernelspec": {
   "display_name": "Python 3 (ipykernel)",
   "language": "python",
   "name": "python3"
  },
  "language_info": {
   "codemirror_mode": {
    "name": "ipython",
    "version": 3
   },
   "file_extension": ".py",
   "mimetype": "text/x-python",
   "name": "python",
   "nbconvert_exporter": "python",
   "pygments_lexer": "ipython3",
   "version": "3.13.0"
  }
 },
 "nbformat": 4,
 "nbformat_minor": 5
}
