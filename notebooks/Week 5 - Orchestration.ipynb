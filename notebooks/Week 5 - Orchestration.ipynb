{
 "cells": [
  {
   "cell_type": "code",
   "execution_count": 1,
   "id": "580a083c-76de-4a12-82fa-ef06c25ee115",
   "metadata": {},
   "outputs": [],
   "source": [
    "import orchestrator2"
   ]
  },
  {
   "cell_type": "code",
   "execution_count": 2,
   "id": "ef4ad66d-42de-4d7d-87f9-2ec52d73cf01",
   "metadata": {},
   "outputs": [],
   "source": [
    "test_question1 = \"What were the top-selling products last month?\"\n",
    "test_question2 = \"Plot a line chart of the monthly sales data.\"\n",
    "test_question3 = \"What were the top-selling products of all time?\"\n",
    "test_question4 = 'What is the minimum sale amount?'\n",
    "questions = [test_question1, test_question2, test_question3, test_question4]"
   ]
  },
  {
   "cell_type": "markdown",
   "id": "99f00672-8e7b-4c80-92b2-6ab0a070eadf",
   "metadata": {},
   "source": [
    "## Rule-based"
   ]
  },
  {
   "cell_type": "code",
   "execution_count": 3,
   "id": "c3f7b0fe-a46a-4d53-bd2b-d20274869ac6",
   "metadata": {},
   "outputs": [
    {
     "name": "stdout",
     "output_type": "stream",
     "text": [
      "Database connection established!\n",
      "LangChain SQLDatabase initialized!\n",
      "Presentation LLM initialized!\n",
      "Question: What were the top-selling products last month?\n",
      "Summary for 'What were the top-selling products last month?:\n",
      "The top-selling products last month were Noise Cancelling Headphones, Monitor 27\", Laptop 15\", Wireless Mouse, and USB-C Hub. Noise Cancelling Headphones had the highest total quantity sold with 18 units, followed closely by Monitor 27\" with 17 units sold. Laptop 15\", Wireless Mouse, and USB-C Hub also had good sales numbers with 15, 11, and 11 units sold respectively. This data shows the most popular products based on the quantity sold last month.\n",
      "\n",
      "Database connection established!\n",
      "LangChain SQLDatabase initialized!\n",
      "Presentation LLM initialized!\n",
      "Question: Plot a line chart of the monthly sales data.\n",
      "Summary for 'Plot a line chart of the monthly sales data.:\n",
      "The line chart above shows the monthly sales data for the year 2025. Each point on the line represents the total sales amount for a specific month. The chart helps visualize the trend in sales over time, showing that there was an increase from January to March. This visualization can help track sales performance and identify patterns or trends in the data.\n",
      "\n",
      "Database connection established!\n",
      "LangChain SQLDatabase initialized!\n",
      "Presentation LLM initialized!\n",
      "Question: What were the top-selling products of all time?\n",
      "Summary for 'What were the top-selling products of all time?:\n",
      "The top-selling products of all time are as follows:\n",
      "1. Monitor 27\" - 52 units sold\n",
      "2. External SSD 1TB - 44 units sold\n",
      "3. Noise Cancelling Headphones - 43 units sold\n",
      "4. USB-C Hub - 41 units sold\n",
      "5. Laptop 15\" - 38 units sold\n",
      "\n",
      "This summary provides a list of the top-selling products based on the total quantity sold. The products are ranked from highest to lowest in terms of sales.\n",
      "\n",
      "Database connection established!\n",
      "LangChain SQLDatabase initialized!\n",
      "Presentation LLM initialized!\n",
      "Question: What is the minimum sale amount?\n",
      "Summary for 'What is the minimum sale amount?:\n",
      "The minimum sale amount is $25. This means that the lowest amount a sale can be is $25.\n",
      "\n"
     ]
    }
   ],
   "source": [
    "for question in questions:\n",
    "    response = orchestrator2.rule_based_router(question)\n",
    "    print(f\"Question: {question}\")\n",
    "    print(response)\n",
    "    print()"
   ]
  },
  {
   "cell_type": "markdown",
   "id": "eccf3cb9-d138-465f-9e83-df9920af9308",
   "metadata": {},
   "source": [
    "## AI-based"
   ]
  },
  {
   "cell_type": "code",
   "execution_count": 4,
   "id": "65391dbf-1fb5-47ff-934c-e6abfd3ddbf6",
   "metadata": {},
   "outputs": [
    {
     "name": "stdout",
     "output_type": "stream",
     "text": [
      "Database connection established!\n",
      "LangChain SQLDatabase initialized!\n",
      "*** presentation intent=both\n",
      "Presentation LLM initialized!\n",
      "Question: What were the top-selling products last month?\n",
      "Summary for 'What were the top-selling products last month?:\n",
      "The top-selling products last month were Noise Cancelling Headphones, Monitor 27\", Laptop 15\", Wireless Mouse, and USB-C Hub. Noise Cancelling Headphones had the highest sales with 18 units sold, followed closely by Monitor 27\" with 17 units sold. The visualization shows a bar chart displaying the total number of units sold for each product, making it easy to see the sales performance of each item.\n",
      "\n",
      "Database connection established!\n",
      "LangChain SQLDatabase initialized!\n",
      "*** presentation intent=visualization\n",
      "Presentation LLM initialized!\n",
      "Question: Plot a line chart of the monthly sales data.\n",
      "Summary for 'Plot a line chart of the monthly sales data.:\n",
      "The code provided uses Plotly Express to create a line chart showing the monthly sales data for the year 2025. The x-axis represents the months (January, February, March), while the y-axis represents the total sales amount. The line chart visually displays how the total sales amount changes over the months. The title of the chart is \"Monthly Sales Data\". This visualization helps to easily understand the trend of sales over the first three months of the year 2025.\n",
      "\n",
      "Database connection established!\n",
      "LangChain SQLDatabase initialized!\n",
      "*** presentation intent=both\n",
      "Presentation LLM initialized!\n",
      "Question: What were the top-selling products of all time?\n",
      "Summary for 'What were the top-selling products of all time?:\n",
      "The top-selling products of all time are listed in the table below, showing the total quantity sold for each product. The products include Monitor 27\", External SSD 1TB, Noise Cancelling Headphones, USB-C Hub, and Laptop 15\". \n",
      "\n",
      "The bar chart visualization displays the top-selling products of all time, with the x-axis showing the product names and the y-axis representing the total quantity sold. This visualization helps to easily compare the sales performance of each product.\n",
      "\n",
      "Database connection established!\n",
      "LangChain SQLDatabase initialized!\n",
      "*** presentation intent=sql\n",
      "Presentation LLM initialized!\n",
      "Question: What is the minimum sale amount?\n",
      "Summary for 'What is the minimum sale amount?:\n",
      "The minimum sale amount is $25. This means that the lowest amount a sale can be for this particular data set is $25.\n",
      "\n"
     ]
    }
   ],
   "source": [
    "for question in questions:\n",
    "    response = orchestrator2.ai_powered_router(question)\n",
    "    print(f\"Question: {question}\")\n",
    "    print(response)\n",
    "    print()"
   ]
  },
  {
   "cell_type": "code",
   "execution_count": null,
   "id": "46042ebb-4db2-4df0-a2e6-15ea7a23e956",
   "metadata": {},
   "outputs": [],
   "source": []
  }
 ],
 "metadata": {
  "kernelspec": {
   "display_name": "Python 3 (ipykernel)",
   "language": "python",
   "name": "python3"
  },
  "language_info": {
   "codemirror_mode": {
    "name": "ipython",
    "version": 3
   },
   "file_extension": ".py",
   "mimetype": "text/x-python",
   "name": "python",
   "nbconvert_exporter": "python",
   "pygments_lexer": "ipython3",
   "version": "3.13.0"
  }
 },
 "nbformat": 4,
 "nbformat_minor": 5
}
